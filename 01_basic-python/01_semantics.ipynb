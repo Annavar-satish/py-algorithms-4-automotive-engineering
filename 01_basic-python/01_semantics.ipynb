{
 "cells": [
  {
   "cell_type": "markdown",
   "metadata": {
    "slideshow": {
     "slide_type": "slide"
    }
   },
   "source": [
    "# Basic python\n",
    "\n",
    "[Table of contents](../toc.ipynb)"
   ]
  },
  {
   "cell_type": "markdown",
   "metadata": {
    "slideshow": {
     "slide_type": "slide"
    }
   },
   "source": [
    "# Python semantics\n",
    "\n",
    "Remember that semantics is the meaning of the language.\n",
    "\n",
    "## Variables are actually pointers\n",
    "\n",
    "The next slides of topic (variables are actually pointers) are a condensed version of notebook 03 from *A Whirlwind Tour of Python* [[VanderPlas2016]](./references.bib), which is under CC0 license.\n",
    "\n",
    "Assigning a variable in Python is very easy, just use the equal sign"
   ]
  },
  {
   "cell_type": "code",
   "execution_count": 92,
   "metadata": {
    "slideshow": {
     "slide_type": "fragment"
    }
   },
   "outputs": [],
   "source": [
    "my_var = 7"
   ]
  },
  {
   "cell_type": "markdown",
   "metadata": {
    "slideshow": {
     "slide_type": "subslide"
    }
   },
   "source": [
    "### Comparision with C\n",
    "\n",
    "However, in contrast to other languages like C, the above line of code should be read like:\n",
    "\n",
    "**`my_var` points to a memory bucket which contains currently an integer of seven.**\n",
    "\n",
    "This is very different from C where a similar line of code would be\n",
    "\n",
    "```C\n",
    "int my_var = 7;\n",
    "```\n",
    "\n",
    "This C code line could be read as:\n",
    "\n",
    "**A container called `my_var` is defined to store integers and it contains currently seven.**"
   ]
  },
  {
   "cell_type": "markdown",
   "metadata": {
    "slideshow": {
     "slide_type": "subslide"
    }
   },
   "source": [
    "### Consequences\n",
    "\n",
    "Because Python variables just point to some object in the memory:\n",
    " * there is no need to declare a variable type\n",
    " * the variable type may change\n",
    " * and this is the reason why Python is called dynamically typed language\n",
    " \n",
    "Hence you can do things like this in Python which won't work in statically typed languages like C"
   ]
  },
  {
   "cell_type": "code",
   "execution_count": 93,
   "metadata": {
    "slideshow": {
     "slide_type": "fragment"
    }
   },
   "outputs": [],
   "source": [
    "my_var = 7 # integer\n",
    "my_var = 7.1 # float\n",
    "my_var = \"Some string\" # string\n",
    "my_var = [0, 1, \"a list with a string\"] # list with intergers and a string"
   ]
  },
  {
   "cell_type": "markdown",
   "metadata": {
    "slideshow": {
     "slide_type": "subslide"
    }
   },
   "source": [
    "### Variables as pointers in practice\n",
    "\n",
    "Because variables are actually pointers, you might wonder how this code is interpreted."
   ]
  },
  {
   "cell_type": "code",
   "execution_count": 94,
   "metadata": {
    "slideshow": {
     "slide_type": "fragment"
    }
   },
   "outputs": [
    {
     "name": "stdout",
     "output_type": "stream",
     "text": [
      "[0, 1, 2, 3]\n"
     ]
    }
   ],
   "source": [
    "x = [0, 1, 2, 3]\n",
    "y = x\n",
    "print(y)"
   ]
  },
  {
   "cell_type": "code",
   "execution_count": 95,
   "metadata": {
    "slideshow": {
     "slide_type": "fragment"
    }
   },
   "outputs": [
    {
     "name": "stdout",
     "output_type": "stream",
     "text": [
      "[0, 1, 2, 99]\n"
     ]
    }
   ],
   "source": [
    "x[3] = 99\n",
    "print(y)"
   ]
  },
  {
   "cell_type": "markdown",
   "metadata": {
    "slideshow": {
     "slide_type": "fragment"
    }
   },
   "source": [
    "Here, the last entry of x was changed and because y point to x, the print y command showed the changed values.\n",
    "\n",
    "However, if we change the bucket where x points to something different, y still points to the \"old\" bucket."
   ]
  },
  {
   "cell_type": "code",
   "execution_count": 96,
   "metadata": {
    "slideshow": {
     "slide_type": "fragment"
    }
   },
   "outputs": [
    {
     "name": "stdout",
     "output_type": "stream",
     "text": [
      "[0, 1, 2, 99]\n"
     ]
    }
   ],
   "source": [
    "x = 77.7\n",
    "print(y)"
   ]
  },
  {
   "cell_type": "markdown",
   "metadata": {
    "slideshow": {
     "slide_type": "subslide"
    }
   },
   "source": [
    "### Is this safe?\n",
    "\n",
    "You might wonder if this will cause trouble in equations. But it is safe because:\n",
    "\n",
    "* Numbers, strings and other basic types are immutable\n",
    "* This means you can not their value. You can only change what values the variable points to."
   ]
  },
  {
   "cell_type": "code",
   "execution_count": 97,
   "metadata": {
    "slideshow": {
     "slide_type": "fragment"
    }
   },
   "outputs": [
    {
     "name": "stdout",
     "output_type": "stream",
     "text": [
      "x = 15\n",
      "y = 10\n"
     ]
    }
   ],
   "source": [
    "x = 10\n",
    "y = x\n",
    "x += 5  # Here actually the variable is changed so that it points to another integer which is 15. Hence, y does not change.\n",
    "print(\"x =\", x)\n",
    "print(\"y =\", y)"
   ]
  },
  {
   "cell_type": "markdown",
   "metadata": {
    "slideshow": {
     "slide_type": "slide"
    }
   },
   "source": [
    "## Python loves objects!\n",
    "\n",
    "Because there is no need to define the type of a variable it is often said that Python is type-free. \n",
    "\n",
    "**This is wrong!**\n",
    "\n",
    "If no type is given, the Python interpreter selects a type and we can read the type."
   ]
  },
  {
   "cell_type": "code",
   "execution_count": 98,
   "metadata": {
    "slideshow": {
     "slide_type": "fragment"
    }
   },
   "outputs": [
    {
     "data": {
      "text/plain": [
       "int"
      ]
     },
     "execution_count": 98,
     "metadata": {},
     "output_type": "execute_result"
    }
   ],
   "source": [
    "x = 7\n",
    "type(x)"
   ]
  },
  {
   "cell_type": "code",
   "execution_count": 99,
   "metadata": {
    "slideshow": {
     "slide_type": "fragment"
    }
   },
   "outputs": [
    {
     "data": {
      "text/plain": [
       "list"
      ]
     },
     "execution_count": 99,
     "metadata": {},
     "output_type": "execute_result"
    }
   ],
   "source": [
    "x = [0, 1, 2, \"string\"]\n",
    "type(x)"
   ]
  },
  {
   "cell_type": "code",
   "execution_count": 100,
   "metadata": {
    "slideshow": {
     "slide_type": "fragment"
    }
   },
   "outputs": [
    {
     "data": {
      "text/plain": [
       "dict"
      ]
     },
     "execution_count": 100,
     "metadata": {},
     "output_type": "execute_result"
    }
   ],
   "source": [
    "x = {\"a\": 3, \"b\": 4.4}\n",
    "type(x)"
   ]
  },
  {
   "cell_type": "markdown",
   "metadata": {
    "slideshow": {
     "slide_type": "fragment"
    }
   },
   "source": [
    "Hence, Python has types and the type are not linked to the variable but to the object.\n",
    "\n",
    "You have seen here some of the basic types like `int` (integer), `list`, and `dict` (dictionary)."
   ]
  },
  {
   "cell_type": "markdown",
   "metadata": {
    "slideshow": {
     "slide_type": "subslide"
    }
   },
   "source": [
    "### Everything is an object\n",
    "\n",
    "You can access different properties of objects with the period `.`\n",
    "\n",
    "The last line of code set x as pointer to a dictionary and the keys of a dictionary can be accessed with `.keys()` method."
   ]
  },
  {
   "cell_type": "code",
   "execution_count": 101,
   "metadata": {
    "slideshow": {
     "slide_type": "fragment"
    }
   },
   "outputs": [
    {
     "data": {
      "text/plain": [
       "dict_keys(['a', 'b'])"
      ]
     },
     "execution_count": 101,
     "metadata": {},
     "output_type": "execute_result"
    }
   ],
   "source": [
    "x = {\"a\": 3, \"b\": 4.4}\n",
    "x.keys()"
   ]
  },
  {
   "cell_type": "markdown",
   "metadata": {
    "slideshow": {
     "slide_type": "fragment"
    }
   },
   "source": [
    "Also very basic objects like integers have attributes and methods."
   ]
  },
  {
   "cell_type": "code",
   "execution_count": 102,
   "metadata": {
    "slideshow": {
     "slide_type": "fragment"
    }
   },
   "outputs": [
    {
     "name": "stdout",
     "output_type": "stream",
     "text": [
      "9\n",
      "4\n"
     ]
    }
   ],
   "source": [
    "x = 9\n",
    "print(x.real) # real attribute of x\n",
    "print(x.bit_length()) # compute bitlength of x with .bitlenght() method"
   ]
  }
 ],
 "metadata": {
  "celltoolbar": "Slideshow",
  "kernelspec": {
   "display_name": "Python 3",
   "language": "python",
   "name": "python3"
  },
  "language_info": {
   "codemirror_mode": {
    "name": "ipython",
    "version": 3
   },
   "file_extension": ".py",
   "mimetype": "text/x-python",
   "name": "python",
   "nbconvert_exporter": "python",
   "pygments_lexer": "ipython3",
   "version": "3.7.0"
  }
 },
 "nbformat": 4,
 "nbformat_minor": 2
}
