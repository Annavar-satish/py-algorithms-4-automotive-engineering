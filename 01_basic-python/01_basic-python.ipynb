{
 "cells": [
  {
   "cell_type": "markdown",
   "metadata": {
    "slideshow": {
     "slide_type": "slide"
    }
   },
   "source": [
    "# Basic python\n",
    "\n",
    "[Table of contents](../toc.ipynb)"
   ]
  },
  {
   "cell_type": "markdown",
   "metadata": {
    "slideshow": {
     "slide_type": "subslide"
    }
   },
   "source": [
    "## Yet another Python course?\n",
    "\n",
    "As said, Python is so popular that there are plenty of online courses, tutorials and books available. Please find here a short list of free and great Python learning sources\n",
    "\n",
    "* A free online tutorial for Python beginners on [tutorialspoint.com](https://www.tutorialspoint.com/python/index.htm)\n",
    "* Book: [A Whirlwind Tour of Python](https://jakevdp.github.io/WhirlwindTourOfPython/) [[VanderPlas2016]](./references.bib)\n",
    "* IPython cloud service [Python anywhere](https://www.pythonanywhere.com/try-ipython/)\n",
    "* Interactive set of Python tutorials on [leanrpython.org](https://www.learnpython.org/)\n",
    "* Python data science cheat sheets on [datacamp.com](https://www.datacamp.com/community/data-science-cheatsheets) [[PyCheatSheats]](./references.bib)\n",
    "\n",
    "There is much more!\n",
    "\n",
    "There is also a bunch of commercial tutorials available to learn Python, e.g. on \n",
    "* [Datacamp.org](https://www.datacamp.com/courses/intro-to-python-for-data-science)\n",
    "* [Udacity.com](https://www.udacity.com/course/introduction-to-python--ud1110)\n",
    "* [Cousera.org](https://www.coursera.org/learn/python)\n",
    "* ...\n",
    "\n",
    "and some of these Python introduction courses are free as well.\n",
    "\n",
    "The following sections on Python syntax and semantics are adapted from *A Whirlwind Tour of Python* [[VanderPlas2016]](./references.bib), which is under CC0 license."
   ]
  },
  {
   "cell_type": "markdown",
   "metadata": {
    "slideshow": {
     "slide_type": "slide"
    }
   },
   "source": [
    "## Python syntax and semantics reference\n",
    "\n",
    "Please find overall syntax and semantics reference in [The Python Language Reference](https://docs.python.org/3/reference/index.html) [[PyReference]](./references.bib), and all functionality of Python in the [The Python Standard Library reference](https://docs.python.org/3/library/index.html#library-index) [[PyStandardLib]](./references.bib).\n",
    "\n",
    "However, we will briefly review the syntax herein to get you started.\n",
    "\n",
    "The syntax is the structure of a language, or how to write it. The semantics is the meaning of the language or how it is interpreted."
   ]
  },
  {
   "cell_type": "markdown",
   "metadata": {
    "slideshow": {
     "slide_type": "slide"
    }
   },
   "source": [
    "## Python syntax\n",
    "\n",
    "Python was designed for high readability. Hence, parenthesis, semicolons and the like are rarely used and keywords are preferably easy to read English words. Therefore, Python code looks often like pseudo code.\n",
    "\n",
    "### Keywords\n",
    "\n",
    "Python has reserved words which cannot be used as variable or identifier names (names of functions or classes).\n",
    "\n",
    "`and as assert async await break class continue def del elif else except False finally for from global if import in is lambda None nonlocal not or pass raise return True try while with yield`"
   ]
  },
  {
   "cell_type": "markdown",
   "metadata": {
    "slideshow": {
     "slide_type": "subslide"
    }
   },
   "source": [
    "### Easy to read\n",
    "\n",
    "Let us compare an example of a for loop in C and Python.\n",
    "\n",
    "```C\n",
    "/* for loop execution in C*/\n",
    "for( a = 10; a < 20; a = a + 1 ){\n",
    "   printf(\"value of a: %d\\n\", a);\n",
    "}\n",
    "```\n",
    "\n",
    "```python\n",
    "# same for loop in Python\n",
    "for a in range(10, 20):\n",
    "    print(\"value of a\", a)\n",
    "```\n",
    "\n",
    "Both code blocks use indentation to make the code easy to read. However, in C, the indentation is good programming style and not required by the compiler. In C, the code block is encapsulated with curly braces `{}`. In contrast, Python requires that code blocks are indented.\n",
    "\n",
    "Python simply uses end of line (carriage return). C requires a semicolon.\n",
    "\n",
    "Python uses fewer special symbols (braces, semicolons,...).\n",
    "\n",
    "The `a in range(10, 20)` is better human readable or pseudo code style than `( a = 10; a < 20; a = a + 1 )`."
   ]
  },
  {
   "cell_type": "code",
   "execution_count": 5,
   "metadata": {
    "slideshow": {
     "slide_type": "subslide"
    }
   },
   "outputs": [
    {
     "name": "stdout",
     "output_type": "stream",
     "text": [
      "value of a: 10\n",
      "value of a: 11\n",
      "value of a: 12\n",
      "value of a: 13\n",
      "value of a: 14\n",
      "value of a: 15\n",
      "value of a: 16\n",
      "value of a: 17\n",
      "value of a: 18\n",
      "value of a: 19\n"
     ]
    }
   ],
   "source": [
    "# Now, lets run the Python loop\n",
    "for a in range(10, 20):\n",
    "    print(\"value of a:\", a)"
   ]
  },
  {
   "cell_type": "markdown",
   "metadata": {
    "slideshow": {
     "slide_type": "subslide"
    }
   },
   "source": [
    "### Indentation\n",
    "\n",
    "Hence, indentation matters! Code blocks are usually started with colon `:` and indented by (commonly) four spaces. However, you are free to use any consistent indentation.\n",
    "\n",
    "The two versions of the for loop produce different results because of indentation. The second `print(y)` is not indented and hence called after the loop."
   ]
  },
  {
   "cell_type": "code",
   "execution_count": 24,
   "metadata": {
    "slideshow": {
     "slide_type": "-"
    }
   },
   "outputs": [
    {
     "name": "stdout",
     "output_type": "stream",
     "text": [
      "0\n",
      "1\n",
      "3\n"
     ]
    }
   ],
   "source": [
    "y = 0\n",
    "for i in range (0, 3):\n",
    "    y += i\n",
    "    print(y)"
   ]
  },
  {
   "cell_type": "code",
   "execution_count": 25,
   "metadata": {
    "slideshow": {
     "slide_type": "-"
    }
   },
   "outputs": [
    {
     "name": "stdout",
     "output_type": "stream",
     "text": [
      "3\n"
     ]
    }
   ],
   "source": [
    "y = 0\n",
    "for i in range (0, 3):\n",
    "    y += i\n",
    "print(y)"
   ]
  },
  {
   "cell_type": "markdown",
   "metadata": {
    "slideshow": {
     "slide_type": "subslide"
    }
   },
   "source": [
    "### Comments\n",
    "\n",
    "In-line comments are marked with a hash `#`. Multi-line comments are not supported by Python but you can use triple quoted strings instead `\"\"\"`, or `'''`"
   ]
  },
  {
   "cell_type": "code",
   "execution_count": 35,
   "metadata": {
    "slideshow": {
     "slide_type": "-"
    }
   },
   "outputs": [],
   "source": [
    "\"\"\" Here a comment\n",
    "with line break.\"\"\"\n",
    "\n",
    "''' Here another comment \n",
    "over two lines.'''\n",
    "\n",
    "some_var = 1\n",
    "# and here a comment in one line\n",
    "some_other_var = 2 # and here another comment"
   ]
  },
  {
   "cell_type": "markdown",
   "metadata": {
    "slideshow": {
     "slide_type": "subslide"
    }
   },
   "source": [
    "### Line continuation\n",
    "\n",
    "If your code is too long, put a `\\` as line wrap. Or encapsulate it in braces with indentation."
   ]
  },
  {
   "cell_type": "code",
   "execution_count": 14,
   "metadata": {
    "slideshow": {
     "slide_type": "-"
    }
   },
   "outputs": [],
   "source": [
    "# Here some long equation\n",
    "complex = 1 + 4 - 8 +\\\n",
    "          2 - 7"
   ]
  },
  {
   "cell_type": "code",
   "execution_count": 15,
   "metadata": {
    "slideshow": {
     "slide_type": "-"
    }
   },
   "outputs": [],
   "source": [
    "# Or the alternative version with braces\n",
    "complex = (1 + 4 - 8 +\n",
    "           2 - 7)"
   ]
  },
  {
   "cell_type": "markdown",
   "metadata": {
    "slideshow": {
     "slide_type": "subslide"
    }
   },
   "source": [
    "### Multiple statements\n",
    "\n",
    "You can either enter one statement after the other or use a semicolon to add them in one line.\n",
    "However, multiple statements in one line are discouraged by Python style guides."
   ]
  },
  {
   "cell_type": "code",
   "execution_count": 18,
   "metadata": {
    "slideshow": {
     "slide_type": "-"
    }
   },
   "outputs": [],
   "source": [
    "a = [1, 2, 3] \n",
    "b = \"my string\"\n",
    "\n",
    "# is the same as \n",
    "a = [1, 2, 3]; b = \"my string\""
   ]
  },
  {
   "cell_type": "markdown",
   "metadata": {
    "slideshow": {
     "slide_type": "subslide"
    }
   },
   "source": [
    "### Whitespace\n",
    "\n",
    "As said, whitespace is used for indentation. Within lines, whitespace does not make a difference."
   ]
  },
  {
   "cell_type": "code",
   "execution_count": 34,
   "metadata": {
    "slideshow": {
     "slide_type": "-"
    }
   },
   "outputs": [
    {
     "name": "stdout",
     "output_type": "stream",
     "text": [
      "Hello:  3\n",
      "Hello:  3\n"
     ]
    }
   ],
   "source": [
    "a = 1\n",
    "b = 2\n",
    "print(\"Hello: \", a + b)\n",
    "# Is the same as\n",
    "print(\"Hello: \", a     +                        b)"
   ]
  },
  {
   "cell_type": "markdown",
   "metadata": {
    "slideshow": {
     "slide_type": "subslide"
    }
   },
   "source": [
    "### PEP8 style guide\n",
    "\n",
    "This was a very short introduction in Python syntax and you should consult the widely accepted [PEP 8 -- Style Guide for Python Code](https://www.python.org/dev/peps/pep-0008/) [[PEP8]](./references.bib) to learn how to write clean and pythonic code. The set of rules will prevent common coding mistakes.\n",
    "\n",
    "Most IDEs (integrated development environments) and Python specific editors will enforce PEP8 as well."
   ]
  },
  {
   "cell_type": "markdown",
   "metadata": {
    "slideshow": {
     "slide_type": "slide"
    }
   },
   "source": [
    "## Python semantics"
   ]
  }
 ],
 "metadata": {
  "celltoolbar": "Slideshow",
  "kernelspec": {
   "display_name": "Python 3",
   "language": "python",
   "name": "python3"
  },
  "language_info": {
   "codemirror_mode": {
    "name": "ipython",
    "version": 3
   },
   "file_extension": ".py",
   "mimetype": "text/x-python",
   "name": "python",
   "nbconvert_exporter": "python",
   "pygments_lexer": "ipython3",
   "version": "3.7.0"
  }
 },
 "nbformat": 4,
 "nbformat_minor": 2
}
