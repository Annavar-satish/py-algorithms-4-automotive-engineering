{
 "cells": [
  {
   "cell_type": "markdown",
   "metadata": {
    "slideshow": {
     "slide_type": "slide"
    }
   },
   "source": [
    "[Table of contents](../toc.ipynb)\n",
    "\n",
    "# Built in data types\n",
    "\n",
    "Python ships with\n",
    "* String\n",
    "* Number\n",
    "  * Integer (signed integers)\n",
    "  * Long (long integers, octal and hexadecimal)\n",
    "  * Float (floating point numbers in double precision)\n",
    "  * Complex (complex numbers with real and imaginary part)\n",
    "* List\n",
    "* Tuple\n",
    "* Dictionary\n",
    "\n",
    "data types.  "
   ]
  },
  {
   "cell_type": "markdown",
   "metadata": {
    "slideshow": {
     "slide_type": "subslide"
    }
   },
   "source": [
    "### Operations with strings\n",
    "\n",
    "You already know that strings are created with `\"\"`.\n",
    "\n",
    "You can add, slice, and repeat strings with simple operators.\n",
    "\n",
    "If you slice, note that Python is zero based and the last element can be assessed with `-1`."
   ]
  },
  {
   "cell_type": "code",
   "execution_count": 91,
   "metadata": {
    "slideshow": {
     "slide_type": "fragment"
    }
   },
   "outputs": [
    {
     "name": "stdout",
     "output_type": "stream",
     "text": [
      "Say\n",
      "something \n",
      "g\n",
      "Say something - right now\n",
      "Say something Say something \n"
     ]
    }
   ],
   "source": [
    "my_string = \"Say something \"\n",
    "\n",
    "print(my_string[0:3]) # prints the first three letters\n",
    "print(my_string[4:]) # prints the fifth to the last letter\n",
    "print(my_string[-2]) # prints the second last letter\n",
    "print(my_string + \"- right now\") # appends \" right now\"\n",
    "print(my_string * 2) # prints the string twice"
   ]
  },
  {
   "cell_type": "markdown",
   "metadata": {
    "slideshow": {
     "slide_type": "subslide"
    }
   },
   "source": [
    "### Procedures on lists\n",
    "\n",
    "Lists are created with brackets `[]` and may contain entries on different type.\n",
    "\n",
    "The entries as well as the shape (lenght) of lists may change."
   ]
  },
  {
   "cell_type": "code",
   "execution_count": 118,
   "metadata": {
    "slideshow": {
     "slide_type": "fragment"
    }
   },
   "outputs": [
    {
     "name": "stdout",
     "output_type": "stream",
     "text": [
      "[0, 1, 2]\n",
      "[0, 1, 2, 3, 4, 5, 6]\n",
      "[0, 1, 3, 4, 5, 6]\n",
      "[1, 3, 4, 5, 6]\n"
     ]
    }
   ],
   "source": [
    "x = [0, 1, 2, 3, 4, 5]\n",
    "\n",
    "# slice from index zero to 2\n",
    "print(x[0:3])\n",
    "\n",
    "# append one element\n",
    "x.append(6)\n",
    "print(x)\n",
    "\n",
    "# remove first occurance of the the value\n",
    "x.remove(2)\n",
    "print(x)\n",
    "\n",
    "# remove and returns item for given index\n",
    "x.pop(0)\n",
    "print(x)"
   ]
  },
  {
   "cell_type": "code",
   "execution_count": null,
   "metadata": {},
   "outputs": [],
   "source": []
  }
 ],
 "metadata": {
  "celltoolbar": "Slideshow",
  "kernelspec": {
   "display_name": "Python 3",
   "language": "python",
   "name": "python3"
  },
  "language_info": {
   "codemirror_mode": {
    "name": "ipython",
    "version": 3
   },
   "file_extension": ".py",
   "mimetype": "text/x-python",
   "name": "python",
   "nbconvert_exporter": "python",
   "pygments_lexer": "ipython3",
   "version": "3.7.5"
  }
 },
 "nbformat": 4,
 "nbformat_minor": 2
}
