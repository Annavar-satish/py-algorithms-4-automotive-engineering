{
 "cells": [
  {
   "cell_type": "markdown",
   "metadata": {},
   "source": [
    "# Introduction\n",
    "\n",
    "[Table of contents](../toc.ipynb)"
   ]
  },
  {
   "cell_type": "markdown",
   "metadata": {},
   "source": [
    "![](https://www.python.org/static/community_logos/python-logo-master-v3-TM.png)\n",
    "\n",
    "\n",
    "## Why Python?\n",
    "\n",
    "* Python is one of the most popular programming languages.\n",
    "* Python was designed as teaching and scripting language in 1990s by Guido van Rossum [wikipedia](https://en.wikipedia.org/wiki/Python_(programming_language)), hence it is easy to read and easy to learn."
   ]
  },
  {
   "cell_type": "markdown",
   "metadata": {},
   "source": [
    "* Python becomes more and more popular due to lack of \"real\" programmers in industry.\n",
    "\n",
    "Here is the [TIOBE index](https://www.tiobe.com/tiobe-index/) from December 2019 of popular programming languages. The index is based on number of skilled engineers world-wide, courses and third party vendors.\n",
    "\n",
    "Programming Language | Ratings | Change\n",
    "-------------------- | ------- | ------\n",
    "Java | 17.253% | +1.32%\n",
    "C | 16.086% | +1.80%\n",
    "Python | 10.308% | +1.93%\n",
    "C++ | 6.196% | -1.37%\n",
    "C# | 4.801% | +1.35%\n",
    "Visual Basic .NET | 4.743% | -2.38%\n",
    "JavaScript | 2.090% | -0.97%\n",
    "PHP | 2.048% | -0.39%\n",
    "SQL | 1.843% | -0.34%\n",
    "wift | 1.490% | +0.27%\n",
    "Ruby | 1.314% | +0.21%\n",
    "Delphi/Object Pascal | 1.280% | -0.12%\n",
    "Objective-C | 1.204% | -0.27%\n",
    "Assembly language | 1.067% | -0.30%\n",
    "Go | 0.995% | -0.19%\n",
    "R | 0.995% | -0.12%\n",
    "MATLAB | 0.986% | -0.30%"
   ]
  },
  {
   "cell_type": "markdown",
   "metadata": {},
   "source": [
    "* Python has nice readable syntax (you might of course have an other opinion on that)."
   ]
  },
  {
   "cell_type": "markdown",
   "metadata": {},
   "source": [
    "* Python lives from contributions of a large community and provides many great libraries.\n",
    "* Recent popular methods like deep learning, speech recognition and the like are usually programmed in Python.\n",
    "* If you want to process data on a computer, chances are very high that someone created a Python library for this.\n",
    "\n",
    "Numpy | Scipy | Matplotlib | Scikit-learn | IPython\n",
    "--- | --- | --- | --- | ---\n",
    "<img src=\"https://github.com/numpy/numpy/raw/master/doc/source/_static/numpy_logo.png\" alt=\"Numpy\" width=\"150\"> | <img src=\"https://github.com/scipy/scipy/raw/master/doc/source/_static/scipyshiny_small.png\" alt=\"Scipy\" width=\"150\"> | <img src=\"https://github.com/matplotlib/matplotlib/raw/master/doc/_static/logo2.png\" alt=\"Matplotlib\" width=\"150\"> | <img src=\"https://github.com/scikit-learn/scikit-learn/raw/master/doc/logos/scikit-learn-logo-small.png\" alt=\"Scikit-learn\" width=\"150\"> | <img src=\"https://github.com/jupyter/jupyter/raw/master/docs/source/_static/_images/ipy_logo.png\" alt=\"IPython\" width=\"150\"> "
   ]
  },
  {
   "cell_type": "markdown",
   "metadata": {},
   "source": [
    "KUDOS to Jake VanderPlas who wrote the beautiful Python introduction *A Whirlwind Tour of Python* [[VanderPlas2016]](./references.bib), which is under CC0 license and hence I will re-use and build-on it in the latter."
   ]
  },
  {
   "cell_type": "markdown",
   "metadata": {},
   "source": [
    "> * [NumPy](https://numpy.org/) provides efficient storage and computation for multi-dimensional data arrays.\n",
    "> * [SciPy](https://scipy.org/) contains a wide array of numerical tools such as numerical integration and interpolation.\n",
    "> * [Matplotlib](https://matplotlib.org/) provides a useful interface for creation of publication-quality plots and figures.\n",
    "> * [Scikit-Learn](https://scikit-learn.org/) provides a uniform toolkit for applying common machine learning algorithms to data.\n",
    "> * [Jupyter](https://jupyter.org/) provides an enhanced terminal and an interactive notebook environment that is useful for exploratory analysis, as well as creation of interactive, executable documents. For example, the manuscript for this report was composed entirely in Jupyter notebooks.\n",
    "\n",
    "> A Whirlwind Tour of Python by Jake VanderPlas (O’Reilly).\n",
    "> Copyright 2016 O’Reilly Media, Inc., 978-1-491-96465-1"
   ]
  },
  {
   "cell_type": "markdown",
   "metadata": {},
   "source": [
    "* All of these packages are **open source!** and available on [github](https://github.com/).\n",
    "\n",
    "<img src=\"https://raw.githubusercontent.com/gilbarbara/logos/master/logos/github-octocat.svg?sanitize=true\" alt=\"Octocat\" width=\"150\">"
   ]
  },
  {
   "cell_type": "markdown",
   "metadata": {},
   "source": [
    "## The Zen of Python\n",
    "The philosophy of Python can be read with `import this` command. It is quite the counter part to Matlab's `why` :)"
   ]
  },
  {
   "cell_type": "code",
   "execution_count": 1,
   "metadata": {},
   "outputs": [
    {
     "name": "stdout",
     "output_type": "stream",
     "text": [
      "The Zen of Python, by Tim Peters\n",
      "\n",
      "Beautiful is better than ugly.\n",
      "Explicit is better than implicit.\n",
      "Simple is better than complex.\n",
      "Complex is better than complicated.\n",
      "Flat is better than nested.\n",
      "Sparse is better than dense.\n",
      "Readability counts.\n",
      "Special cases aren't special enough to break the rules.\n",
      "Although practicality beats purity.\n",
      "Errors should never pass silently.\n",
      "Unless explicitly silenced.\n",
      "In the face of ambiguity, refuse the temptation to guess.\n",
      "There should be one-- and preferably only one --obvious way to do it.\n",
      "Although that way may not be obvious at first unless you're Dutch.\n",
      "Now is better than never.\n",
      "Although never is often better than *right* now.\n",
      "If the implementation is hard to explain, it's a bad idea.\n",
      "If the implementation is easy to explain, it may be a good idea.\n",
      "Namespaces are one honking great idea -- let's do more of those!\n"
     ]
    }
   ],
   "source": [
    "import this"
   ]
  },
  {
   "cell_type": "markdown",
   "metadata": {},
   "source": [
    "## Python installation\n",
    "Before we are able to start with coding, we need some knowledge about Python installation."
   ]
  },
  {
   "cell_type": "markdown",
   "metadata": {},
   "source": [
    "First, there is Python 2 and Python 3. The last Python 2 version is Python 2.2.17 and was released in October 2019 and official support for Python 2 will stop on January 2020, [see this note](https://www.python.org/dev/peps/pep-0373/)."
   ]
  },
  {
   "cell_type": "markdown",
   "metadata": {},
   "source": [
    "Python 3 was released in 2008, but it took quite some time to convert all libraries from Python 2 to Python 3.\n",
    "\n",
    "Some packages might still lack behind. If you need to learn how to convert Python 2 to Python 3, have a look [here](http://python3porting.com/bookindex.html).\n",
    "\n",
    "Anyway, we will focus on **Python 3**."
   ]
  },
  {
   "cell_type": "markdown",
   "metadata": {},
   "source": []
  },
  {
   "cell_type": "markdown",
   "metadata": {},
   "source": []
  },
  {
   "cell_type": "markdown",
   "metadata": {},
   "source": [
    "### Exercise\n",
    "\n",
    "<img src=\"../_static/exercise.png\" alt=\"Octocat\" width=\"75\" align=\"left\">"
   ]
  },
  {
   "cell_type": "code",
   "execution_count": null,
   "metadata": {},
   "outputs": [],
   "source": [
    "import numpy as np\n",
    "import matplotlib.pyplot as plt"
   ]
  },
  {
   "cell_type": "code",
   "execution_count": null,
   "metadata": {},
   "outputs": [],
   "source": [
    "data = np.linspace(start=0, stop=10, num=20)\n",
    "data"
   ]
  },
  {
   "cell_type": "code",
   "execution_count": null,
   "metadata": {
    "scrolled": true
   },
   "outputs": [],
   "source": [
    "plt.figure()\n",
    "plt.plot(data)"
   ]
  },
  {
   "cell_type": "code",
   "execution_count": null,
   "metadata": {},
   "outputs": [],
   "source": [
    "data_random = np.random.rand(100)\n",
    "\n",
    "plt.figure()\n",
    "plt.plot(data_random)"
   ]
  },
  {
   "cell_type": "markdown",
   "metadata": {},
   "source": [
    "## Citations"
   ]
  },
  {
   "cell_type": "markdown",
   "metadata": {},
   "source": [
    "Here a citation\n",
    "[[VanderPlas2016]](./references.bib)"
   ]
  }
 ],
 "metadata": {
  "kernelspec": {
   "display_name": "Python 3",
   "language": "python",
   "name": "python3"
  },
  "language_info": {
   "codemirror_mode": {
    "name": "ipython",
    "version": 3
   },
   "file_extension": ".py",
   "mimetype": "text/x-python",
   "name": "python",
   "nbconvert_exporter": "python",
   "pygments_lexer": "ipython3",
   "version": "3.5.2"
  }
 },
 "nbformat": 4,
 "nbformat_minor": 2
}
