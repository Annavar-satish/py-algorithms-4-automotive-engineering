{
 "cells": [
  {
   "cell_type": "markdown",
   "metadata": {
    "slideshow": {
     "slide_type": "slide"
    }
   },
   "source": [
    "[Table of contents](../toc.ipynb)\n",
    "\n",
    "# Clean Code\n",
    "\n",
    "<a href=\"https://www.oreilly.com/library/view/clean-code/9780136083238/\"><img src=\"https://www.oreilly.com/library/cover/9780136083238/250w/\" alt=\"Clean Code\" width=\"100\" align=\"right\"></a>\n",
    "\n",
    "Clean code is a book and a set coding principles of Robert C. Martin [[Martin2008]](./references.bib), aka [Uncle Bob](https://blog.cleancoder.com/). \n",
    "\n",
    "Clean Code aims too foster coding skills of developers for high quality software development.\n",
    "\n",
    "The coding principles of this book influenced several software developer initiatives like the [Software Craftsmanship](https://en.wikipedia.org/wiki/Software_craftsmanship) movement.\n",
    "\n",
    "The goal of his books is to teach everyone to write beautiful code, which is code that is:\n",
    "* good and easy to read,\n",
    "* easy to test,\n",
    "* easy to reuse,\n",
    "* easy to modify.\n",
    "\n",
    "**In one sentence, clean code is required to reduce [technical debt](https://en.wikipedia.org/wiki/Technical_debt).**"
   ]
  },
  {
   "cell_type": "markdown",
   "metadata": {
    "slideshow": {
     "slide_type": "subslide"
    }
   },
   "source": [
    "## More references\n",
    "\n",
    "Before we dive into clean code principles, I'd like to point you to some additional references for further study.\n",
    "\n",
    "Next to clean code book [[Martin2008]](./references.bib), there is an entire series of books from Martin to help you to become a better developer: *Clean Architecture* [[Martin2018]](./references.bib), *Clean Coder* [[Martin2011]](./references.bib)).\n",
    "\n",
    "A short summary of clean code is to find in a [clean code cheat sheet](https://www.planetgeek.ch/wp-content/uploads/2014/11/Clean-Code-V2.4.pdf).\n",
    "\n",
    "There are many other great books that teach you to write clean code, for instance *The Pragmatic Programmer: From Journeyman to Master* [[Hunt2019]](./references.bib), or *Clean Code in Python - Refactor Your Legacy Code Base* [[Anay2018]](./references.bib)."
   ]
  },
  {
   "cell_type": "markdown",
   "metadata": {
    "slideshow": {
     "slide_type": "slide"
    }
   },
   "source": [
    "# Clean Code principles\n",
    "\n",
    "First, let us have a look at three quotes to introduce clean code."
   ]
  },
  {
   "cell_type": "markdown",
   "metadata": {
    "slideshow": {
     "slide_type": "subslide"
    }
   },
   "source": [
    "## Quote one\n",
    "\n",
    "\"*Writing clean code is what you must do in order to call yourself a professional. There is no reasonable excuse for doing anything less than your best*\" [[Martin2008]](./references.bib)."
   ]
  },
  {
   "cell_type": "markdown",
   "metadata": {
    "slideshow": {
     "slide_type": "subslide"
    }
   },
   "source": [
    "## Quote two\n",
    "\n",
    "\"*Programming is the art of telling another human being what one wants the computer to do.*\" \\[Donald Knuth\\]"
   ]
  },
  {
   "cell_type": "markdown",
   "metadata": {
    "slideshow": {
     "slide_type": "subslide"
    }
   },
   "source": [
    "## Quote three\n",
    "\n",
    "\"*Computers are good at following instructions, but not at reading your mind.*\" \\[Donald Knuth\\]"
   ]
  },
  {
   "cell_type": "markdown",
   "metadata": {
    "slideshow": {
     "slide_type": "subslide"
    }
   },
   "source": [
    "Almost anything what follows can be derived from the quotes of Donald Knuth. Just keep in mind that you write code for another human, not for the computer and humans spend most time for reading code not for writing code in larger software projects."
   ]
  },
  {
   "cell_type": "markdown",
   "metadata": {
    "slideshow": {
     "slide_type": "subslide"
    }
   },
   "source": [
    "## Clean Code in a nutshell\n",
    "\n",
    "Now, that we know that code is written for humans, the following list of main principles in clean code should make sense. This list is not comprehensive but my favorites."
   ]
  },
  {
   "cell_type": "markdown",
   "metadata": {
    "slideshow": {
     "slide_type": "subslide"
    }
   },
   "source": [
    "### 1. Use meaningful names.\n",
    "* This is true for all layers of code. Please use meaningful names for folders, classes, functions, variables, tests...\n",
    "* Meaningful names are for instance very handy if you start to search for something within in large project."
   ]
  },
  {
   "cell_type": "markdown",
   "metadata": {
    "slideshow": {
     "slide_type": "subslide"
    }
   },
   "source": [
    "### 2. Functions should:\n",
    "* **be small**,\n",
    "* **do one thing**,\n",
    "* use descriptive names,\n",
    "* have no side effects,\n",
    "* have not more than three arguments (best is zero).\n",
    "\n",
    "Methods in class can be treated similarly to functions. And **classes** should be small as well."
   ]
  },
  {
   "cell_type": "markdown",
   "metadata": {
    "slideshow": {
     "slide_type": "subslide"
    }
   },
   "source": [
    "### 3. Do not repeat yourself! \n",
    "\n",
    "* Avoid redundant code. \n",
    "* Reuse code instead.\n",
    "\n",
    "If you start to repeat yourself, you will end up with something which is known as [Spaghetti code](https://en.wikipedia.org/wiki/Spaghetti_code)."
   ]
  },
  {
   "cell_type": "markdown",
   "metadata": {
    "slideshow": {
     "slide_type": "subslide"
    }
   },
   "source": [
    "### 4. Comments do not heal bad code.\n",
    "\n",
    "Comments are often outdated compared with the code itself. Instead of using comments, try to express yourself in the code! Fewer is better here.\n",
    "\n",
    "**Good comments are**\n",
    "* informative,\n",
    "* explain the intention why something has been made,\n",
    "* warn of consequences,\n",
    "* list ToDos.\n",
    "\n",
    "**Bad comments are**\n",
    "* redundant,\n",
    "* misleading, outdated, or simply wrong,\n",
    "* comments that comment out code."
   ]
  },
  {
   "cell_type": "markdown",
   "metadata": {
    "slideshow": {
     "slide_type": "subslide"
    }
   },
   "source": [
    "### 5. Use good readable formatting!\n",
    "\n",
    "Well you are in a Python course, so if you follow PEP 8 -- Style Guide for Python Code [[PEP8]](./references.bib) your code will be superior readable from a formatting point of view.\n",
    "\n",
    "Formatting means vertical and horizontal space. In spite of other languages, Python was designed with formatting in mind. So you should be fine with this principle by default."
   ]
  },
  {
   "cell_type": "markdown",
   "metadata": {
    "slideshow": {
     "slide_type": "subslide"
    }
   },
   "source": [
    "## \"Why clean code, we have Continuous Integration!\"\n",
    "\n",
    "Yes you can and should automate whenever possible and hence you can automate static code analysis tests, and linting. But clean code is more than linted code.\n",
    "\n",
    "Clean code is good readable and maintainable. Note that roughly 80% of time is required for developers to read code. Hence, a linter can tell you that a variable should have lower case letters only, but it can not suggest a meaningful variable name.\n",
    "\n",
    "Therefore, **if you automate a mess, you get automated mess**."
   ]
  },
  {
   "cell_type": "markdown",
   "metadata": {
    "slideshow": {
     "slide_type": "subslide"
    }
   },
   "source": [
    "<a title=\"CC BY 3.0 by Geek and Poke\" href=\"http://geek-and-poke.com/geekandpoke/2010/9/7/how-to-ensure-quality.html\"><img width=\"350\" height=\"300\" alt=\"version control\" src=\"http://s3.media.squarespace.com/production/2129687/19317774/.a/6a00d8341d3df553ef0133f3fe2e20970b-800wi\" align=\"right\"></a>\n",
    "\n",
    "## Beyond Clean Code\n",
    "\n",
    "Clean Code contributes to software quality but clean code is not enough to ensure high software quality. \n",
    "\n",
    "On a higher level, you need **clean architecture, clean tests, clean design, and even clean organization** as well to develop a product on high quality.\n",
    "\n",
    "An example of a not so well defined organization is if subtasks of a product like implementation, testing, and marketing are dispersed over different business units which do not communicate with each other. \n",
    "\n",
    "Think about the mess which comes up if the product manage from unit A sells a feature which is not yet developed in unit B and which will be forgotten to test in unit C. This **organizational mess will cause a messy product**."
   ]
  },
  {
   "cell_type": "markdown",
   "metadata": {
    "slideshow": {
     "slide_type": "slide"
    }
   },
   "source": [
    "# Clean Code examples"
   ]
  }
 ],
 "metadata": {
  "celltoolbar": "Slideshow",
  "kernelspec": {
   "display_name": "Python 3",
   "language": "python",
   "name": "python3"
  },
  "language_info": {
   "codemirror_mode": {
    "name": "ipython",
    "version": 3
   },
   "file_extension": ".py",
   "mimetype": "text/x-python",
   "name": "python",
   "nbconvert_exporter": "python",
   "pygments_lexer": "ipython3",
   "version": "3.7.6"
  }
 },
 "nbformat": 4,
 "nbformat_minor": 2
}
