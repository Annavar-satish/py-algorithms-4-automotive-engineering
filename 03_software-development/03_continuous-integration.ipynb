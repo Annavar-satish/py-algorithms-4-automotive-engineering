{
 "cells": [
  {
   "cell_type": "markdown",
   "metadata": {
    "slideshow": {
     "slide_type": "slide"
    }
   },
   "source": [
    "[Table of contents](../toc.ipynb)\n",
    "\n",
    "# Continuous integration (CI)\n",
    "\n",
    "* Continuous integration (CI) is a concept where changes from developers are integrated and tested into main version of software within short cycles. \n",
    "\n",
    "* CI is often twinned with CD, which mean continuous delivery. In CD, the concept is to be able to create a deliverable software product for costumers in short cycles.\n",
    "\n",
    "* CI/CD (we will just consider CI in the latter) fosters automation of manual tasks and provides foundation for distributed development on short cycles.\n",
    "\n",
    "* Short cycles means daily and often many times a day."
   ]
  },
  {
   "cell_type": "markdown",
   "metadata": {
    "slideshow": {
     "slide_type": "subslide"
    }
   },
   "source": [
    "## Why integrate in short cycles?\n",
    "\n",
    "We have seen previously that **cost of change is roughly an exponential function of time** of development process. Hence, the earlier you find errors the cheaper and easier they can be resolved.\n",
    "\n",
    "Add to this, **software development in teams requires to split larger chunks of work** (often called a feature) into smaller ones (often called story) so that developers can work simultaneously. **Without CI, tests can be just applied after integration of all stories**. If this fails, the entire feature is incomplete."
   ]
  },
  {
   "cell_type": "markdown",
   "metadata": {
    "slideshow": {
     "slide_type": "subslide"
    }
   },
   "source": [
    "Take a look at this figure where a feature is developed by Peter and Joe. With CI, each commit (circle) of Peter and Joe triggers a test of the entire software. \n",
    "\n",
    "Note that two commits of Joe contained a bug. However, due to direct feedback of CI, Joe noticed directly that something went wrong and he resolved the bug in the next commit. Therefore, Peters changes were not corrupted by the bugs and integration went well through.\n",
    "\n",
    "<img src=\"distributed_dev.svg\" alt=\"git\" width=\"700\">\n",
    "\n",
    "Therefore, CI ensures that the software remains *soft*. Developers do not hesitate to change the software and small changes can be integrated very fast."
   ]
  },
  {
   "cell_type": "markdown",
   "metadata": {
    "slideshow": {
     "slide_type": "subslide"
    }
   },
   "source": [
    "## Requirements for CI\n",
    "\n",
    "If you want to apply in your development - which is a must today I would say - your project needs to address these requirements:\n",
    "\n",
    "* The software is under version control (git).\n",
    "* Tests are either together with code or before coding written (test driven development).\n",
    "* The test and build steps are automated and this automation is also under version control.\n",
    "* A CI software triggers tests and builds on events like commits or pull requests and stores and returns results.\n",
    "* Build slaves are available (hardware PCs or cloud services) to test and build the software.\n",
    "* Tests and build are fast.\n",
    "* You need a cultural environment that fosters failing fast and prioritizes bug fixes.\n",
    "\n",
    "You see, there are many requirements. However, if you address them, the quality and maintainability of software will improve drastically."
   ]
  },
  {
   "cell_type": "markdown",
   "metadata": {
    "slideshow": {
     "slide_type": "subslide"
    }
   },
   "source": [
    "## Theory or practice?\n",
    "\n",
    "We could of course proceed with theory about CI. However, I guess the mindset behind CI is more important.\n",
    "\n",
    "* Automate the boring stuff! People believing that a checklist and manual quality tests are a way to ensure quality have not much practical experience.\n",
    "  * No one wants and will go through a checklist in daily business and run manual tests.\n",
    "* Test often, test fast!\n",
    "* Use all weapons you have (static analysis, dynamic tests, integration tests,...)."
   ]
  },
  {
   "cell_type": "markdown",
   "metadata": {
    "slideshow": {
     "slide_type": "subslide"
    }
   },
   "source": [
    "CI techniques are developing very fast and that is why we explore some tools shortly before we get our hands dirty and set up a CI pipeline."
   ]
  },
  {
   "cell_type": "markdown",
   "metadata": {
    "slideshow": {
     "slide_type": "subslide"
    }
   },
   "source": [
    "## CI solutions\n",
    "\n",
    "CI is state of the art in software development and there are many tools and solutions available. Here a short incomplete list of solutions.\n",
    "\n",
    "* [Jenkins](https://jenkins.io/) the probably most applied automation server. Very flexible and rich of features on the price of not so simple to learn and maintain from my experience. With Jenkins, you can do anything, but you need rather expert knowledge.\n",
    "\n",
    "* [Travis CI](https://travis-ci.org/) a more lightweight solution compared with Jenkins for CI. Easy to use and directly integrated as service in Github. I used Travis CI for instance to test all Jupyter notebooks of this course. Take a look here: [![Build Status](https://travis-ci.com/StephanRhode/py-algorithms-4-automotive-engineering.svg?branch=master)](https://travis-ci.com/StephanRhode/py-algorithms-4-automotive-engineering)\n",
    "\n",
    "* [Github actions](https://github.com/features/actions) a quite recent CI feature of Github which of course is very easy to use. Most lightweight solution for Github repos currently I would say.\n",
    "\n",
    "* Tens of other solutions! Just search for CI and many tools will show up."
   ]
  },
  {
   "cell_type": "markdown",
   "metadata": {
    "slideshow": {
     "slide_type": "subslide"
    }
   },
   "source": [
    "## Exercise:  Build a CI pipeline (25 minutes)\n",
    "\n",
    "<img src=\"../_static/exercise.png\" alt=\"Exercise\" width=\"75\" align=\"left\">\n",
    "\n",
    "Now we want to create our first small CI pipeline."
   ]
  },
  {
   "cell_type": "markdown",
   "metadata": {
    "slideshow": {
     "slide_type": "subslide"
    }
   },
   "source": [
    "## Books on CI\n",
    "\n",
    "Here two books on continuous integration topic. Add to this, there are numerous online courses out there.\n",
    "\n",
    "* The Hitchhiker's Guide to Python [[Schlusser2016]](./references.bib).\n",
    "* Continuous integration improving software quality and reducing risk [[Duvall2013]](./references.bib).\n",
    "\n",
    "## Tutorial on Python CI\n",
    "\n",
    "There is a great and free tutorial which explains how to apply CI for Pyhton on realpython.com [https://realpython.com/python-continuous-integration/](https://realpython.com/python-continuous-integration/)."
   ]
  }
 ],
 "metadata": {
  "celltoolbar": "Slideshow",
  "kernelspec": {
   "display_name": "Python 3",
   "language": "python",
   "name": "python3"
  },
  "language_info": {
   "codemirror_mode": {
    "name": "ipython",
    "version": 3
   },
   "file_extension": ".py",
   "mimetype": "text/x-python",
   "name": "python",
   "nbconvert_exporter": "python",
   "pygments_lexer": "ipython3",
   "version": "3.7.6"
  }
 },
 "nbformat": 4,
 "nbformat_minor": 2
}
