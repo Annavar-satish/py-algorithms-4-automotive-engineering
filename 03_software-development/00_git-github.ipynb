{
 "cells": [
  {
   "cell_type": "code",
   "execution_count": 2,
   "metadata": {
    "slideshow": {
     "slide_type": "skip"
    }
   },
   "outputs": [],
   "source": [
    "# Required to load webpages\n",
    "from IPython.display import IFrame"
   ]
  },
  {
   "cell_type": "markdown",
   "metadata": {
    "slideshow": {
     "slide_type": "slide"
    }
   },
   "source": [
    "# Why version control?\n",
    "\n",
    "If you never have heard of version control, you might be familiar with a working mode which is shown in this carton posted By Oliver Widder on [datamation.com](https://www.datamation.com/news/tech-comics-version-control-1.html).\n",
    "\n",
    "<a title=\"Copyright by Oliver Widder\" href=\"https://www.datamation.com/news/tech-comics-version-control-1.html\"><img width=\"400\" alt=\"version control\" src=\"https://www.datamation.com/imagesvr_ce/3829/version-control.jpg\" ></a>\n",
    "\n",
    "If this looks familiar to you, learn git and become professional."
   ]
  },
  {
   "cell_type": "markdown",
   "metadata": {
    "slideshow": {
     "slide_type": "subslide"
    }
   },
   "source": [
    "[Table of contents](../toc.ipynb)\n",
    "\n",
    "\n",
    "## Version control with git\n",
    "\n",
    "<img src=\"https://raw.githubusercontent.com/gilbarbara/logos/master/logos/git.svg?sanitize=true\" alt=\"git\" width=\"150\" align=\"right\">\n",
    "\n",
    "Version control is one fundamental pillar in each software development project. There is no excuse to omit version control!\n",
    "\n",
    "Next to other version control systems like svn, [git](https://git-scm.com/) is the most popular and most prominent tool right now. Its main advantage is the **powerful branch and merge concept**, which **allows to develop software simultaneously and distributed**.\n",
    "\n",
    "Please find a much deeper feature description of git either on wikipedia [https://en.wikipedia.org/wiki/Git](https://en.wikipedia.org/wiki/Git) or in the git docu [https://git-scm.com/about](https://git-scm.com/about)."
   ]
  },
  {
   "cell_type": "markdown",
   "metadata": {
    "slideshow": {
     "slide_type": "subslide"
    }
   },
   "source": [
    "There are different working styles in git controlled projects. These different styles are called branching models and the `master - feature branch` concept is a simple concept you can use for smaller projects. Please find here a picture of a git master feature branch network.\n",
    "\n",
    "The black solid line is the master and the shorter colored lines are feature branches which provide changed versions of the master. Each bullet is a commit.\n",
    "\n",
    "<img src=\"git_network.png\" alt=\"git\" width=\"700\">"
   ]
  },
  {
   "cell_type": "markdown",
   "metadata": {
    "slideshow": {
     "slide_type": "subslide"
    }
   },
   "source": [
    "## Learn git in ten minutes\n",
    "\n",
    "As pre-note, there is one superior git training web page [A great page to learn git interactively https://learngitbranching.js.org/](A great page to learn git interactively https://learngitbranching.js.org/) you should check out.\n",
    "\n",
    "Next we want to try to learn some basics of git in a couple of minutes."
   ]
  },
  {
   "cell_type": "markdown",
   "metadata": {
    "slideshow": {
     "slide_type": "subslide"
    }
   },
   "source": [
    "Git can either be used in terminal or through many GUIs like [git for windows](https://gitforwindows.org/), [sourcetree](https://www.sourcetreeapp.com/), [gitkraken](https://www.gitkraken.com/).\n",
    "\n",
    "As there is so much training material to find in the web (see links in a few slides), we will just briefly take a look at some git commands.\n",
    "\n",
    "* `git --version` returns the version of your git. If this command fails, [install git first](https://git-scm.com/downloads).\n",
    "* `git init <directory>` initializes a folder as git repository.\n",
    "* `git clone <repo>` clones a repository for instance from github on your computer.\n",
    "* `git add <files or A for all>` stages specific files or all for next commit.\n",
    "* `git commit -m \"<message>\"` commits all staged files with a commit message.\n",
    "* `git fetch` fetches changes from remote, for instance new branches.\n",
    "* `git pull` pulls changes form current branch on your computer.\n",
    "* `git push` pushes your local changes to remote on same branch.\n",
    "* `git checkout -b <branch>` checkout `<branch>` from remote on your computer.\n",
    "* `git status` lists staged or modified files.\n",
    "* `git log` displays git history.\n",
    "* `git merge <branch>` merges `<branch>` into you current branch.\n",
    "* `git revert <commit id>` reverts a specific commit."
   ]
  },
  {
   "cell_type": "markdown",
   "metadata": {
    "slideshow": {
     "slide_type": "subslide"
    }
   },
   "source": [
    "## Exercise:  git (5 minutes)\n",
    "\n",
    "<img src=\"../_static/exercise.png\" alt=\"Exercise\" width=\"75\" align=\"left\">\n",
    "\n",
    "Please follow these steps to become familiar with some common git commands.\n",
    "\n",
    "* Create a folder and navigate with your terminal to this folder.\n",
    "* Type `git init` to initialize the git repository.\n",
    "* Type `git status` multiple times between next steps to see what is going on.\n",
    "* Stage this file with `git add -A`.\n",
    "* Create a file called `file.txt` with the text \"Hello git\".\n",
    "* Commit this file with `git commit -m \"Add first file\"`.\n",
    "* Create a branch with `git branch develop`.\n",
    "* Switch to this branch with `git checkout develop` you can see where you are with `git status`.\n",
    "* Change the text in the file into \"Hello git, we are on a branch\".\n",
    "* Commit this change with `git add -A`, `git commit -m \"Adds better text\"`.\n",
    "* Switch to master with `git checkout master` and open the file, what text is there?\n",
    "* Merge the changes from develop with `git merge develop`.\n",
    "* View the history with `git log` and the graph with `git log --graph`."
   ]
  },
  {
   "cell_type": "markdown",
   "metadata": {
    "slideshow": {
     "slide_type": "subslide"
    }
   },
   "source": [
    "## Commit messages\n",
    "\n",
    "During commit, you should add a meaningful commit message with `git commit -m \"Your message goes here\"` to avoid meaningless git history like in this xdk comic:\n",
    "\n",
    "<a title=\"xkcd 1296\" href=\"https://xkcd.com/1296/\"><img width=\"400\" alt=\"version control\" src=\"https://imgs.xkcd.com/comics/git_commit.png\" ></a>\n",
    "\n",
    "Good commit messages are well explained in numerous blog posts. One great blog post is from Chris Beams and linked in the next code block."
   ]
  },
  {
   "cell_type": "code",
   "execution_count": 4,
   "metadata": {
    "slideshow": {
     "slide_type": "subslide"
    }
   },
   "outputs": [
    {
     "data": {
      "text/html": [
       "\n",
       "        <iframe\n",
       "            width=\"1000\"\n",
       "            height=\"600\"\n",
       "            src=\"https://chris.beams.io/posts/git-commit/#seven-rules\"\n",
       "            frameborder=\"0\"\n",
       "            allowfullscreen\n",
       "        ></iframe>\n",
       "        "
      ],
      "text/plain": [
       "<IPython.lib.display.IFrame at 0x7fa05c0be450>"
      ]
     },
     "execution_count": 4,
     "metadata": {},
     "output_type": "execute_result"
    }
   ],
   "source": [
    "IFrame(src='https://chris.beams.io/posts/git-commit/#seven-rules', width=1000, height=600)"
   ]
  },
  {
   "cell_type": "markdown",
   "metadata": {
    "slideshow": {
     "slide_type": "subslide"
    }
   },
   "source": [
    "## More git training material\n",
    "\n",
    "Git can be learned from many sources and there is much more possible to do with than we have seen herein.\n",
    "\n",
    "Here an incomplete list of references to become a git professional.\n",
    "\n",
    "* A great page to learn git interactively [https://learngitbranching.js.org/](https://learngitbranching.js.org/).\n",
    "* The main features of git are listed in this [git page](https://git-scm.com/about/branching-and-merging).\n",
    "* There is a free git book available on [https://git-scm.com/book/en/v2](https://git-scm.com/book/en/v2).\n",
    "* Please find some [introduction videos in git's doc](https://git-scm.com/doc).\n",
    "* Also take a look at this [git cheat sheet](https://www.atlassian.com/git/tutorials/atlassian-git-cheatsheet)."
   ]
  },
  {
   "cell_type": "markdown",
   "metadata": {
    "slideshow": {
     "slide_type": "slide"
    }
   },
   "source": [
    "# Github\n",
    "\n",
    "<img src=\"https://raw.githubusercontent.com/gilbarbara/logos/master/logos/github-octocat.svg?sanitize=true\" alt=\"Octocat\" width=\"150\" align=\"right\">\n",
    "\n",
    "[Github](https://github.com/) is a development platform built specifically for git and provides beside basic code hosting many features to develop and promote software products open source. Almost all Python libraries are stored on github. The features include: source code management, continuous integration and delivery, code review, project management, team management, and many more services like promotion web pages for your project in github pages.\n",
    "\n",
    "Other options for source code management in the web are [bitbucket](https://bitbucket.org/) and [gitlab](https://about.gitlab.com/).\n",
    "\n",
    "You can find all features on [https://github.com/features](  https://github.com/features)."
   ]
  },
  {
   "cell_type": "markdown",
   "metadata": {
    "slideshow": {
     "slide_type": "subslide"
    }
   },
   "source": [
    "Add to this, github is built for developers and promotes open source, and you can learn from the best developers like [https://github.com/torvalds](https://github.com/torvalds).\n",
    "\n",
    "Now let us explore one example project on github."
   ]
  }
 ],
 "metadata": {
  "celltoolbar": "Slideshow",
  "kernelspec": {
   "display_name": "Python 3",
   "language": "python",
   "name": "python3"
  },
  "language_info": {
   "codemirror_mode": {
    "name": "ipython",
    "version": 3
   },
   "file_extension": ".py",
   "mimetype": "text/x-python",
   "name": "python",
   "nbconvert_exporter": "python",
   "pygments_lexer": "ipython3",
   "version": "3.7.6"
  }
 },
 "nbformat": 4,
 "nbformat_minor": 2
}
