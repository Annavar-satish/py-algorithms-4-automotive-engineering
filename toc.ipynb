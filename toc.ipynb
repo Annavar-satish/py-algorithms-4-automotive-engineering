{
 "cells": [
  {
   "cell_type": "markdown",
   "metadata": {},
   "source": [
    "## Table of contents\n",
    "\n",
    "1. [Introduction](./00_intro)\n",
    "    1. [Introduction](./00_intro/00_intro.ipynb)\n",
    "    2. [Python installation](./00_intro/01_py-installation.ipynb)\n",
    "2. [Basic python](./01_basic-python) \n",
    "    1. [Syntax](./01_basic-python/00_syntax.ipynb)\n",
    "    2. [Semantics](./01_basic-python/01_semantics.ipynb)\n",
    "    3. [Data types](./01_basic-python/02_data-types.ipynb)\n",
    "    4. [Conditions and Loops](./01_basic-python/03_conditions-and-loops.ipynb)\n",
    "    5. [Functions](./01_basic-python/04_functions.ipynb)\n",
    "    6. [Classes](./01_basic-python/05_classes.ipynb)\n",
    "    7. [Modules](./01_basic-python/06_modules.ipynb)\n",
    "3. [Tools and Packages](./02_tools-and-packages)\n",
    "    1. [Tools for Python](./02_tools-and-packages/00_tools-for-python.ipynb)\n",
    "    2. [Plot packages](./02_tools-and-packages/01_plot-packages.ipynb)\n",
    "    3. [NumPy](./02_tools-and-packages/02_numpy.ipynb)\n",
    "    4. [SciPy](./02_tools-and-packages/03_scipy.ipynb)\n",
    "    5. [SymPy](./02_tools-and-packages/04_sympy.ipynb)\n",
    "    6. [Scikit-Learn](./02_tools-and-packages/05_sklearn.ipynb)\n",
    "    7. [Additional Packages](./02_tools-and-packages/06_additional-packages.ipynb)\n",
    "4. [Software Development](./03_software-development)\n",
    "    1. [Git, Github](./03_software-development/00_git-github.ipynb)\n",
    "    2. [PyTest](./03_software-development/01_pytest.ipynb)\n",
    "    3. [Sphinx](./03_software-development/02_sphinx.ipynb)\n",
    "    4. [Continuous Integration](./03_software-development/03_continuous-integration.ipynb)\n",
    "    5. [Clean Code](./03_software-development/04_clean-code.ipynb)\n",
    "5. [Mini Projects](./04_mini-projects)\n",
    "    1. [Ordinary Differential Equations](./04_mini-projects/00_ode.ipynb)\n",
    "    2. [Vehicle Model Calibration](./04_mini-projects/01_vehicle-model-calibration.ipynb)\n",
    "    3. [Vehicle State Estimation](./04_mini-projects/02_vehicle-state-estimation.ipynb)\n",
    "    4. [e-Vehicle Powertrain Modelling](./04_mini-projects/03_e-vehicle-powertrain-model.ipynb)"
   ]
  }
 ],
 "metadata": {
  "kernelspec": {
   "display_name": "Python 3",
   "language": "python",
   "name": "python3"
  },
  "language_info": {
   "codemirror_mode": {
    "name": "ipython",
    "version": 3
   },
   "file_extension": ".py",
   "mimetype": "text/x-python",
   "name": "python",
   "nbconvert_exporter": "python",
   "pygments_lexer": "ipython3",
   "version": "3.7.6"
  }
 },
 "nbformat": 4,
 "nbformat_minor": 2
}
