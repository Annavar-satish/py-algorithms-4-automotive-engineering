{
 "cells": [
  {
   "cell_type": "markdown",
   "metadata": {
    "slideshow": {
     "slide_type": "slide"
    }
   },
   "source": [
    "[Table of contents](../toc.ipynb)\n",
    "\n",
    "# Ordinary differential equations\n",
    "\n",
    "We will compare different discretization schemes to solve ordinary differential equations (ODE) in this mini project. The goal is that you have gathered practical experience in\n",
    " * explicit Euler, \n",
    " * and Runge-Kutta solver for ODEs.\n",
    " \n",
    "We will solve and compare the solution of the basic ODE \n",
    "\n",
    "$y'(t) = y(t)$\n",
    "\n",
    "with exact solution, and numerical ODE solvers like it was done in section 1.2.6 [[Burg2013]](../references.bib) for Matlab."
   ]
  },
  {
   "cell_type": "code",
   "execution_count": 20,
   "metadata": {
    "slideshow": {
     "slide_type": "subslide"
    }
   },
   "outputs": [],
   "source": [
    "%matplotlib inline\n",
    "from matplotlib import pyplot as plt\n",
    "\n",
    "import sympy as sp\n",
    "import numpy as np"
   ]
  },
  {
   "cell_type": "markdown",
   "metadata": {
    "slideshow": {
     "slide_type": "slide"
    }
   },
   "source": [
    "## Exact solution\n",
    "\n",
    "The exact solution is likely very simple to solve for you and you do not need Python for it, but let us compute with SymPy briefly.\n",
    "\n",
    "First, we need to define a symbol and a function, which should result in the given function $y'(t) = y(t)$."
   ]
  },
  {
   "cell_type": "code",
   "execution_count": 21,
   "metadata": {
    "slideshow": {
     "slide_type": "subslide"
    }
   },
   "outputs": [
    {
     "data": {
      "text/latex": [
       "$\\displaystyle \\frac{d}{d t} y{\\left(t \\right)} = y{\\left(t \\right)}$"
      ],
      "text/plain": [
       "Eq(Derivative(y(t), t), y(t))"
      ]
     },
     "execution_count": 21,
     "metadata": {},
     "output_type": "execute_result"
    }
   ],
   "source": [
    "y = sp.Function('y')\n",
    "t = sp.symbols('t')\n",
    "\n",
    "dgl = sp.Eq(y(t).diff(t), y(t))\n",
    "dgl"
   ]
  },
  {
   "cell_type": "markdown",
   "metadata": {
    "slideshow": {
     "slide_type": "subslide"
    }
   },
   "source": [
    "We can compute now with SymPy the exact solution with and without initial condition."
   ]
  },
  {
   "cell_type": "code",
   "execution_count": 22,
   "metadata": {
    "slideshow": {
     "slide_type": "fragment"
    }
   },
   "outputs": [
    {
     "data": {
      "text/latex": [
       "$\\displaystyle y{\\left(t \\right)} = C_{1} e^{t}$"
      ],
      "text/plain": [
       "Eq(y(t), C1*exp(t))"
      ]
     },
     "execution_count": 22,
     "metadata": {},
     "output_type": "execute_result"
    }
   ],
   "source": [
    "sp.dsolve(dgl, y(t))"
   ]
  },
  {
   "cell_type": "markdown",
   "metadata": {
    "slideshow": {
     "slide_type": "subslide"
    }
   },
   "source": [
    "The solution with initial condition becomes:"
   ]
  },
  {
   "cell_type": "code",
   "execution_count": 23,
   "metadata": {
    "slideshow": {
     "slide_type": "fragment"
    }
   },
   "outputs": [
    {
     "data": {
      "text/latex": [
       "$\\displaystyle y{\\left(t \\right)} = 3 e^{t}$"
      ],
      "text/plain": [
       "Eq(y(t), 3*exp(t))"
      ]
     },
     "execution_count": 23,
     "metadata": {},
     "output_type": "execute_result"
    }
   ],
   "source": [
    "sp.dsolve(dgl, y(t), ics={y(0): 3})"
   ]
  },
  {
   "cell_type": "markdown",
   "metadata": {
    "slideshow": {
     "slide_type": "subslide"
    }
   },
   "source": [
    "It is obvious that the integration constant $C_1$ from the solution without initial condition has always the value \n",
    "$C_1 = y(0)$.\n",
    "\n",
    "Therefore, we can define a function to compute the exact solution on different initial conditions."
   ]
  },
  {
   "cell_type": "code",
   "execution_count": 24,
   "metadata": {
    "slideshow": {
     "slide_type": "fragment"
    }
   },
   "outputs": [],
   "source": [
    "def exact_solution(time, init):\n",
    "    return init * np.exp(time)"
   ]
  },
  {
   "cell_type": "markdown",
   "metadata": {
    "slideshow": {
     "slide_type": "subslide"
    }
   },
   "source": [
    "And a loop computes the solutions for each initial condition."
   ]
  },
  {
   "cell_type": "code",
   "execution_count": 25,
   "metadata": {
    "slideshow": {
     "slide_type": "fragment"
    }
   },
   "outputs": [],
   "source": [
    "time = np.arange(0, 3, 0.1)\n",
    "init = np.arange(0, 4, 0.5)\n",
    "\n",
    "dgl_exact = np.zeros((init.size, time.size))\n",
    "\n",
    "for idx, value in enumerate(init):\n",
    "    dgl_exact[idx,:] = exact_solution(time, value)"
   ]
  },
  {
   "cell_type": "markdown",
   "metadata": {
    "slideshow": {
     "slide_type": "subslide"
    }
   },
   "source": [
    "The next plot shows the solutions."
   ]
  },
  {
   "cell_type": "code",
   "execution_count": 26,
   "metadata": {
    "slideshow": {
     "slide_type": "fragment"
    }
   },
   "outputs": [
    {
     "data": {
      "image/png": "[encoded data removed]",
      "text/plain": [
       "<Figure size 432x288 with 1 Axes>"
      ]
     },
     "metadata": {
      "needs_background": "light"
     },
     "output_type": "display_data"
    }
   ],
   "source": [
    "plt.figure()\n",
    "for row in np.ndindex(dgl_exact.shape[0]):\n",
    "    plt.plot(time, dgl_exact[row], 'k-')\n",
    "plt.ylim([0, 10])\n",
    "plt.xlabel(\"time\")\n",
    "plt.ylabel(\"$y$\")\n",
    "plt.legend([\"Exact solutions\"])\n",
    "\n",
    "plt.show()"
   ]
  },
  {
   "cell_type": "markdown",
   "metadata": {
    "slideshow": {
     "slide_type": "slide"
    }
   },
   "source": [
    "## Numerical solution\n",
    "\n",
    "### Runge-Kutta\n",
    "\n",
    "Now we want to apply SciPy to compute the numerical solution with Runge-Kutta numerical solver. SciPy uses the `RK45`, which is an explicit Runge-Kutta of order four, where the step size is approximated from order five method. The classical Runge-Kutta of order four follows\n",
    "\n",
    "$\\begin{align}\n",
    "r_1 &= f(t_i, y_i)\\\\\n",
    "r_2 &= f(t_i + \\frac{1}{2} \\Delta t, y_i + \\frac{1}{2} \\Delta t r_1)\\\\\n",
    "r_3 &= f(t_i + \\frac{1}{2} \\Delta t, y_i + \\frac{1}{2} \\Delta t r_2)\\\\\n",
    "r_4 &= f(t_i + \\Delta t, y_i + \\Delta t r_3)\\\\\n",
    "y_{i+1} &= y_i + \\frac{1}{6} \\Delta t (r_1 + 2 r_2 + 2 r_3 + r_4),\n",
    "\\end{align}$\n",
    "\n",
    "see equation (1.105) in [[Burg2013]](../references.bib)."
   ]
  },
  {
   "cell_type": "markdown",
   "metadata": {
    "slideshow": {
     "slide_type": "subslide"
    }
   },
   "source": [
    "First, we need to define the function which should be solved."
   ]
  },
  {
   "cell_type": "code",
   "execution_count": 27,
   "metadata": {
    "slideshow": {
     "slide_type": "fragment"
    }
   },
   "outputs": [],
   "source": [
    "def equation(t, y):\n",
    "    \"\"\"Return right hand side of d/dt y(t) = y(t)\"\"\"\n",
    "    return y"
   ]
  },
  {
   "cell_type": "markdown",
   "metadata": {
    "slideshow": {
     "slide_type": "subslide"
    }
   },
   "source": [
    "Now, we can use `scipy.intergrate` to solve the solution with Runge-Kutta solver."
   ]
  },
  {
   "cell_type": "code",
   "execution_count": 28,
   "metadata": {
    "slideshow": {
     "slide_type": "fragment"
    }
   },
   "outputs": [],
   "source": [
    "from scipy.integrate import solve_ivp\n",
    "\n",
    "time_span = [0, 3]\n",
    "init = [1]\n",
    "dgl_RK45 = solve_ivp(equation, time_span, init, method='RK45', t_eval=time)"
   ]
  },
  {
   "cell_type": "markdown",
   "metadata": {
    "slideshow": {
     "slide_type": "subslide"
    }
   },
   "source": [
    "And now we plot this solution for initial value $y(0)=1$."
   ]
  },
  {
   "cell_type": "code",
   "execution_count": 29,
   "metadata": {
    "slideshow": {
     "slide_type": "fragment"
    }
   },
   "outputs": [
    {
     "data": {
      "image/png": "[encoded data removed]",
      "text/plain": [
       "<Figure size 432x288 with 1 Axes>"
      ]
     },
     "metadata": {
      "needs_background": "light"
     },
     "output_type": "display_data"
    }
   ],
   "source": [
    "plt.figure()\n",
    "plt.plot(time, dgl_RK45.y[0, :])\n",
    "plt.legend([\"$y$ Runge-Kutta\"])\n",
    "plt.xlabel(\"Time\")\n",
    "plt.ylabel(\"$y$\")\n",
    "plt.ylim([0, 10])\n",
    "plt.show()"
   ]
  },
  {
   "cell_type": "markdown",
   "metadata": {
    "slideshow": {
     "slide_type": "subslide"
    }
   },
   "source": [
    "### Explicit Euler\n",
    "\n",
    "<img src=\"euler.png\" alt=\"Exercise\" width=\"300\" align=\"right\">\n",
    "\n",
    "The explicit Euler method (forward Euler) is the simplest one step numerical solver we can implement by ourself.\n",
    "\n",
    "It is based on the approximation\n",
    "\n",
    "$y'(t_i) \\approx \\dfrac{y(t_{i+1}) - y(t_i)}{\\Delta t}$,\n",
    "\n",
    "$y(t_{i+1}) - y(t_i) \\approx \\Delta t f(t_i, y(t_i))$,\n",
    "\n",
    "and the solution becomes,\n",
    "\n",
    "$y_{i+1} = y_i + \\Delta t f(t_i, y_i)$,\n",
    "\n",
    "where $\\Delta t$ is the step size and $f(t_i, y_i)$ is right hand side of $y'(t) = f(t, y(t))$, see section 1.2.6 [[Burg2013]](../references.bib)."
   ]
  },
  {
   "cell_type": "code",
   "execution_count": 30,
   "metadata": {
    "slideshow": {
     "slide_type": "subslide"
    }
   },
   "outputs": [],
   "source": [
    "def solve_eeuler(func, time_vec, delta_t, inc):\n",
    "    \"\"\"Forwar Euler for DGL of type d/dt y = f(t, y(t))\"\"\"\n",
    "    y = np.zeros(time_vec.size)   \n",
    "    y[0] = inc\n",
    "    \n",
    "    for idx, t in enumerate(time_vec[1:]):\n",
    "        f = func(t, np.array([y[idx]]))\n",
    "        y[idx + 1] = y[idx] + delta_t * f\n",
    "    return y"
   ]
  },
  {
   "cell_type": "code",
   "execution_count": 31,
   "metadata": {
    "slideshow": {
     "slide_type": "subslide"
    }
   },
   "outputs": [],
   "source": [
    "dgl_eeuler = solve_eeuler(func=equation, time_vec=time, delta_t=0.1, inc=1.0)"
   ]
  },
  {
   "cell_type": "code",
   "execution_count": 32,
   "metadata": {
    "slideshow": {
     "slide_type": "subslide"
    }
   },
   "outputs": [],
   "source": [
    "time2 = np.arange(0, 3, 0.3)\n",
    "dgl_eeuler2 = solve_eeuler(func=equation, time_vec=time2, delta_t=0.3, inc=1.0)"
   ]
  },
  {
   "cell_type": "markdown",
   "metadata": {
    "slideshow": {
     "slide_type": "subslide"
    }
   },
   "source": [
    "### Implicit Euler\n",
    "\n",
    "The implicit Euler or backward Euler solver looks very similar to explicit Euler. However, here the computation $f(t_{i+1}, y_{i+1})$ is required which makes this method computational more expensive but ensure stability. The implicit Euler is\n",
    "\n",
    "$y_{t+1} = y_i + \\Delta t f(t_{i+1}, y_{i+1})$.\n",
    "\n",
    "However, we will skip the implementation of implicit Euler herein."
   ]
  },
  {
   "cell_type": "markdown",
   "metadata": {
    "slideshow": {
     "slide_type": "subslide"
    }
   },
   "source": [
    "### Results\n",
    "\n",
    "The next plot shows all solutions together. The large step size in `dgl_eeuler2` causes large discretization error. Add to this, Euler method can also cause unstable solutions if the step size is to large for the given problem."
   ]
  },
  {
   "cell_type": "code",
   "execution_count": 33,
   "metadata": {
    "slideshow": {
     "slide_type": "subslide"
    }
   },
   "outputs": [
    {
     "data": {
      "image/png": "[encoded data removed]",
      "text/plain": [
       "<Figure size 432x288 with 1 Axes>"
      ]
     },
     "metadata": {
      "needs_background": "light"
     },
     "output_type": "display_data"
    }
   ],
   "source": [
    "plt.figure()\n",
    "plt.plot(time, dgl_exact[2], 'k-')\n",
    "plt.plot(time, dgl_RK45.y[0, :], '--')\n",
    "plt.plot(time, dgl_eeuler, '--')\n",
    "plt.plot(time2, dgl_eeuler2, '--')\n",
    "plt.legend([\"Exact solution\", \"$y$ Runge-Kutta\", \"$y$ Forward Euler\", \"$y$ Forward Euler2\"])\n",
    "plt.xlabel(\"Time\")\n",
    "plt.ylabel(\"$y$\")\n",
    "plt.ylim([0, 10])\n",
    "plt.show()"
   ]
  },
  {
   "cell_type": "markdown",
   "metadata": {
    "slideshow": {
     "slide_type": "subslide"
    }
   },
   "source": [
    "Finally, let us compute the error of Runge-Kutta and forward Euler solver compared with exact solution."
   ]
  },
  {
   "cell_type": "code",
   "execution_count": 34,
   "metadata": {
    "slideshow": {
     "slide_type": "fragment"
    }
   },
   "outputs": [
    {
     "data": {
      "image/png": "[encoded data removed]",
      "text/plain": [
       "<Figure size 432x288 with 1 Axes>"
      ]
     },
     "metadata": {
      "needs_background": "light"
     },
     "output_type": "display_data"
    }
   ],
   "source": [
    "plt.figure()\n",
    "plt.plot(time, dgl_exact[2] - dgl_RK45.y[0, :], '--')\n",
    "plt.legend([\"Runge-Kutta\"])\n",
    "plt.xlabel(\"Time\")\n",
    "plt.ylabel(\"Discretization error\")\n",
    "plt.show()"
   ]
  },
  {
   "cell_type": "code",
   "execution_count": 35,
   "metadata": {
    "slideshow": {
     "slide_type": "subslide"
    }
   },
   "outputs": [
    {
     "data": {
      "image/png": "[encoded data removed]",
      "text/plain": [
       "<Figure size 432x288 with 1 Axes>"
      ]
     },
     "metadata": {
      "needs_background": "light"
     },
     "output_type": "display_data"
    }
   ],
   "source": [
    "plt.figure()\n",
    "plt.plot(time, dgl_exact[2] - dgl_eeuler, '--')\n",
    "plt.legend([\"Forward Euler\"])\n",
    "plt.xlabel(\"Time\")\n",
    "plt.ylabel(\"Discretization error\")\n",
    "plt.show()"
   ]
  },
  {
   "cell_type": "markdown",
   "metadata": {
    "slideshow": {
     "slide_type": "subslide"
    }
   },
   "source": [
    "It is clearly visible that Runge-Kutta provides much better accuracy than explicit Euler. For more ODE solvers and their accuracy consult pages 75-80 in [[Burg2013]](../references.bib)."
   ]
  },
  {
   "cell_type": "markdown",
   "metadata": {
    "slideshow": {
     "slide_type": "slide"
    }
   },
   "source": [
    "## Exercise:  ODE mini project\n",
    "\n",
    "<img src=\"../_static/exercise.png\" alt=\"Exercise\" width=\"75\" align=\"left\">\n",
    "\n",
    "Please find the exact and Runge-Kutta solution for the mechanical oscillator system\n",
    "\n",
    "$m\\ddot{x}(t) + r \\dot{x}(t) + k x(t) = K(t)$,\n",
    "\n",
    "where $m$ denotes mass, $r$ damping constant, $k$ spring constant, and $K(t)$ is a time varying external force. We are looking for the displacement $x(t)$.\n",
    "\n",
    "<img src=\"spring_mass_damper.png\" alt=\"Spring mass damper\" width=\"500\">\n",
    "\n",
    "You can assume that $K(t) = K_0 \\cos \\omega t$."
   ]
  }
 ],
 "metadata": {
  "celltoolbar": "Slideshow",
  "kernelspec": {
   "display_name": "Python 3",
   "language": "python",
   "name": "python3"
  },
  "language_info": {
   "codemirror_mode": {
    "name": "ipython",
    "version": 3
   },
   "file_extension": ".py",
   "mimetype": "text/x-python",
   "name": "python",
   "nbconvert_exporter": "python",
   "pygments_lexer": "ipython3",
   "version": "3.8.5"
  },
  "toc": {
   "base_numbering": 1,
   "nav_menu": {},
   "number_sections": true,
   "sideBar": true,
   "skip_h1_title": false,
   "title_cell": "Table of Contents",
   "title_sidebar": "Contents",
   "toc_cell": false,
   "toc_position": {},
   "toc_section_display": true,
   "toc_window_display": false
  },
  "varInspector": {
   "cols": {
    "lenName": 16,
    "lenType": 16,
    "lenVar": 40
   },
   "kernels_config": {
    "python": {
     "delete_cmd_postfix": "",
     "delete_cmd_prefix": "del ",
     "library": "var_list.py",
     "varRefreshCmd": "print(var_dic_list())"
    },
    "r": {
     "delete_cmd_postfix": ") ",
     "delete_cmd_prefix": "rm(",
     "library": "var_list.r",
     "varRefreshCmd": "cat(var_dic_list()) "
    }
   },
   "types_to_exclude": [
    "module",
    "function",
    "builtin_function_or_method",
    "instance",
    "_Feature"
   ],
   "window_display": false
  }
 },
 "nbformat": 4,
 "nbformat_minor": 2
}
