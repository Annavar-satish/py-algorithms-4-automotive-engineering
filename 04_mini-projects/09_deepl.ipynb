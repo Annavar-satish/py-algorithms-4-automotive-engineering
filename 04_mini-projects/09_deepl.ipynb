{
 "cells": [
  {
   "cell_type": "markdown",
   "metadata": {
    "slideshow": {
     "slide_type": "slide"
    }
   },
   "source": [
    "[Table of contents](../toc.ipynb)\n",
    "\n",
    "# Deep Learning\n",
    "\n",
    "This notebook is a contribution of Mauricio Fernandez.\n",
    "\n",
    "Email: fernandez@cps.tu-darmstadt.de, mauricio.fernandez.lb@gmail.com\n",
    "\n",
    "Profiles\n",
    "- [TU Darmstadt](https://www.maschinenbau.tu-darmstadt.de/cps/department_cps/team_1/team_detail_184000.en.jsp)\n",
    "- [Google Scholar](https://scholar.google.com/citations?user=pwQ_YNEAAAAJ&hl=de)\n",
    "- [GitHub](https://github.com/mauricio-fernandez-l)"
   ]
  },
  {
   "cell_type": "markdown",
   "metadata": {
    "slideshow": {
     "slide_type": "slide"
    }
   },
   "source": [
    "## Artificial intelligence (AI)\n",
    "\n",
    "Some definitions in the web:\n",
    "- the theory and development of computer systems able to perform tasks normally requiring human intelligence, such as visual perception, speech recognition, decision-making, and translation between languages.\n",
    "- study of \"intelligent agents\": any device that perceives its environment and takes actions that maximize its chance of successfully achieving its goals\n",
    "\n",
    "<img src=\"https://images.theconversation.com/files/168081/original/file-20170505-21003-zbguhy.jpg?ixlib=rb-1.1.0&q=45&auto=format&w=926&fit=clip\" alt=\"neural netowork\" width=\"300\" align=\"right\">\n",
    "\n",
    "Computational methods in AI:\n",
    "- Data mining\n",
    "- Machine learning\n",
    "    - Artificial neural networks\n",
    "        - Single layer learning\n",
    "        - **Deep learning (DL)**\n",
    "    - Kernel methods (SVM,...)\n",
    "    - Decision trees\n",
    "    - ...\n",
    "- ..."
   ]
  },
  {
   "cell_type": "markdown",
   "metadata": {
    "slideshow": {
     "slide_type": "subslide"
    }
   },
   "source": [
    "## Why DL?\n",
    "\n",
    "Pros:\n",
    "- Enourmous flexibility due to high number of parameters\n",
    "- Capability to represent complex functions\n",
    "- Huge range of applications (visual perception, decision-making, ...) in industry and research\n",
    "- Open high-performance software (TensorFlow, Keras, PyTorch, Scikit-learn,...)\n",
    "\n",
    "<img src=\"https://s3.amazonaws.com/keras.io/img/keras-logo-2018-large-1200.png\" alt=\"Keras\" width=\"200\" align=\"right\">\n",
    "<img src=\"https://www.tensorflow.org/images/tf_logo_social.png\" alt=\"TensoFlow\" width=\"200\" align=\"right\">\n",
    "\n",
    "Cons:\n",
    "- Difficult to train (vanishing gradient,...)\n",
    "- High number of internal parameters"
   ]
  },
  {
   "cell_type": "markdown",
   "metadata": {
    "slideshow": {
     "slide_type": "slide"
    }
   },
   "source": [
    "## Introduction to artificial neural networks (ANN)\n",
    "\n",
    "Needed modules"
   ]
  },
  {
   "cell_type": "code",
   "execution_count": 1,
   "metadata": {},
   "outputs": [],
   "source": [
    "import tensorflow as tf\n",
    "import numpy as np\n",
    "import matplotlib.pyplot as plt\n",
    "from mpl_toolkits import mplot3d\n",
    "from matplotlib.image import imread\n",
    "import glob"
   ]
  },
  {
   "cell_type": "markdown",
   "metadata": {
    "slideshow": {
     "slide_type": "subslide"
    }
   },
   "source": [
    "## Neuron model\n",
    "\n",
    "**Neuron:** single unit cell processing incoming electric signals (input)\n",
    "\n",
    "<img src=\"https://images.theconversation.com/files/168081/original/file-20170505-21003-zbguhy.jpg?ixlib=rb-1.1.0&q=45&auto=format&w=926&fit=clip\" alt=\"neural netowork\" width=\"200\" align=\"left\">\n",
    "<img src=\"https://s3.amazonaws.com/assets.datacamp.com/blog_assets/Keras+Python+Tutorial/content_content_neuron.png\" alt=\"neuron\" width=\"700\" align=\"center\">\n",
    "\n",
    "**Mathematical model:** input $x$ with output $y$ and internal parameters $w$ (weight), $b$ (bias) and activation function $a(z)$\n",
    "$$\n",
    "\\hat{y} = a(wx +b)\n",
    "$$\n",
    "\n",
    "**Example:**\n",
    "$$\n",
    "\\hat{y} = \\tanh(0.3x - 3)\n",
    "$$"
   ]
  },
  {
   "cell_type": "markdown",
   "metadata": {
    "slideshow": {
     "slide_type": "subslide"
    }
   },
   "source": [
    "## Activation functions"
   ]
  },
  {
   "cell_type": "code",
   "execution_count": 2,
   "metadata": {
    "scrolled": true
   },
   "outputs": [
    {
     "data": {
      "text/plain": [
       "<matplotlib.legend.Legend at 0x27484ad6408>"
      ]
     },
     "execution_count": 2,
     "metadata": {},
     "output_type": "execute_result"
    },
    {
     "data": {
      "image/png": "[encoded data removed]",
      "text/plain": [
       "<Figure size 432x288 with 1 Axes>"
      ]
     },
     "metadata": {
      "needs_background": "light"
     },
     "output_type": "display_data"
    }
   ],
   "source": [
    "x = np.linspace(-3,3,100)\n",
    "plt.figure()\n",
    "plt.plot(x,tf.nn.relu(x),label='relu')\n",
    "plt.plot(x,tf.nn.softplus(x),label='softplus')\n",
    "plt.plot(x,tf.nn.tanh(x),label='tanh')\n",
    "plt.plot(x,tf.nn.sigmoid(x),label='sigmoid')\n",
    "plt.legend()"
   ]
  },
  {
   "cell_type": "markdown",
   "metadata": {
    "slideshow": {
     "slide_type": "subslide"
    }
   },
   "source": [
    "## ANN architecture\n",
    "\n",
    "**Example 1:** Two one-dimensional layers\n",
    "$$\n",
    "\\hat{y} = a^{(2)}(w^{(2)}a^{(1)}(w^{(1)}x+b^{(1)})+b^{(2)})\n",
    "$$\n",
    "\n",
    "**Example 2:** Network for 2D input and 1D output with one hidden layer (3 neurons) and identity final activation \n",
    "$$\n",
    "\\hat{y} = \n",
    "\\begin{pmatrix}\n",
    "w^{(2)}_1 & w^{(2)}_2 & w^{(2)}_3\n",
    "\\end{pmatrix}\n",
    "a^{(1)}\n",
    "\\left(\n",
    "\\begin{pmatrix}\n",
    "w^{(1)}_{11} & w^{(1)}_{12} \\\\\n",
    "w^{(1)}_{21} & w^{(1)}_{22} \\\\\n",
    "w^{(1)}_{31} & w^{(1)}_{32} \\\\\n",
    "\\end{pmatrix}\n",
    "\\begin{pmatrix}\n",
    "x_1 \\\\ x_2\n",
    "\\end{pmatrix}\n",
    "+\n",
    "\\begin{pmatrix}\n",
    "b^{(1)}_1 \\\\ b^{(1)}_2 \\\\ b^{(1)}_3\n",
    "\\end{pmatrix}\n",
    "\\right)\n",
    "+\n",
    "b^{(2)}\n",
    "$$\n",
    "\n",
    "<img src=\"09_files/network1.png\" alt=\"network1\" width=\"300\" align=\"ceter\">\n",
    "\n",
    "[Draw networks](http://alexlenail.me/NN-SVG/index.html)\n",
    "\n",
    "**Deep network: lots of layers**\n",
    "\n",
    "<img src=\"09_files/network2.png\" alt=\"network2\" width=\"500\" align=\"left\">\n",
    "<img src=\"https://images.theconversation.com/files/168081/original/file-20170505-21003-zbguhy.jpg?ixlib=rb-1.1.0&q=45&auto=format&w=926&fit=clip\" alt=\"neural netowork\" width=\"200\" align=\"right\">"
   ]
  },
  {
   "cell_type": "markdown",
   "metadata": {
    "slideshow": {
     "slide_type": "subslide"
    }
   },
   "source": [
    "## Training an ANN\n",
    "\n",
    "For input vector $x \\in \\mathbb{R}^3$ consider the network $\\hat{y}(x) \\in \\mathbb{R}^2$  \n",
    "\n",
    "<img src=\"09_files/network2.png\" alt=\"network2\" width=\"700\" align=\"center\">\n",
    "\n",
    "for the approximation of a vector function $y(x) \\in \\mathbb{R}^2$. After fixing the architecture of the network (number of layers, number of neurons and activation functions), the remaining parameters (weights and biases) need calibration. This is achieved in **supervised learning** through the minimization of an objective function (referred to as **loss**) for provided dataset $D$ with $N$ data pairs\n",
    "$$\n",
    "    D = \\{(x^{(1)},y^{(1)}),(x^{(2)},y^{(2)}),\\dots,(x^{(N)},y^{(N)})\\}\n",
    "$$\n",
    "which the ANN $\\hat{y}(x)$ is required to approximate. \n",
    "\n",
    "Example loss: mean squared error (MSE) $e(y,\\hat{y})$ for each data pair averaged over the complete dataset\n",
    "$$\n",
    " L = \\frac{1}{N} \\sum_{i=1}^N e(y^{(i)}, \\hat{y}^{(i)})\n",
    " \\ , \\quad\n",
    " e(y,\\hat{y}) = \\frac{1}{2}\\sum_{j=1}^2(y_j-\\hat{y}_j)^2\n",
    "$$\n",
    "\n",
    "The calibration of weights and biases based on the minimization of the loss for given data is referred to as **training**."
   ]
  },
  {
   "cell_type": "markdown",
   "metadata": {
    "slideshow": {
     "slide_type": "subslide"
    }
   },
   "source": [
    "## Standard problems\n",
    "\n",
    "**Regression:** fit a model $\\hat{y}(x)$ to approximate a function $y(x)$.\n",
    "* $x = 14.5$\n",
    "* $y(x) = 3\\sin(14.5)+10 = 12.8...$\n",
    "* $\\hat{y}(x) = 11.3...$\n",
    "\n",
    "**Classification:** fit a model $\\hat{y}(x)$ predicting that $x$ belongs to one of $C$ classes.\n",
    "* $C=4$ classes $\\{$cat,dog,horse,pig$\\}$\n",
    "* $x =$ image of a horse\n",
    "* $y(x) = (0,0,1,0)$ (third class = horse)\n",
    "* $\\hat{y}(x) = (0.1,0.2,0.4,0.3)$ (class probabilities - model predicts for the third class the highest probability)"
   ]
  },
  {
   "cell_type": "markdown",
   "metadata": {
    "slideshow": {
     "slide_type": "slide"
    }
   },
   "source": [
    "## How to build a basic tf.keras model\n",
    "\n",
    "<img src=\"09_files/network1.png\" alt=\"network1\" width=\"300\" align=\"ceter\">"
   ]
  },
  {
   "cell_type": "code",
   "execution_count": 3,
   "metadata": {},
   "outputs": [],
   "source": [
    "# Create sequential model\n",
    "model = tf.keras.Sequential([\n",
    "    tf.keras.layers.Dense(3,input_shape=[2],activation='relu') # 3x2 weights and 3 biases = 9 parameters\n",
    "    ,tf.keras.layers.Dense(1) # 1x3 weights and 1 bias = 4 parameters\n",
    "])"
   ]
  },
  {
   "cell_type": "code",
   "execution_count": 4,
   "metadata": {
    "slideshow": {
     "slide_type": "subslide"
    }
   },
   "outputs": [
    {
     "name": "stdout",
     "output_type": "stream",
     "text": [
      "Model: \"sequential\"\n",
      "_________________________________________________________________\n",
      "Layer (type)                 Output Shape              Param #   \n",
      "=================================================================\n",
      "dense (Dense)                (None, 3)                 9         \n",
      "_________________________________________________________________\n",
      "dense_1 (Dense)              (None, 1)                 4         \n",
      "=================================================================\n",
      "Total params: 13\n",
      "Trainable params: 13\n",
      "Non-trainable params: 0\n",
      "_________________________________________________________________\n"
     ]
    }
   ],
   "source": [
    "# Model summary\n",
    "model.summary()"
   ]
  },
  {
   "cell_type": "code",
   "execution_count": 5,
   "metadata": {
    "slideshow": {
     "slide_type": "subslide"
    }
   },
   "outputs": [
    {
     "name": "stdout",
     "output_type": "stream",
     "text": [
      "[[0.        ]\n",
      " [0.62247217]\n",
      " [0.2941213 ]]\n"
     ]
    }
   ],
   "source": [
    "# List of 3 points to be evaluated\n",
    "xs = np.array([\n",
    "    [0,0]\n",
    "    ,[0,np.pi]\n",
    "    ,[np.pi,np.pi]\n",
    "])\n",
    "\n",
    "# Prediction / model evaluation\n",
    "ys_model = model.predict(xs)\n",
    "print(ys_model)"
   ]
  },
  {
   "cell_type": "code",
   "execution_count": 6,
   "metadata": {
    "slideshow": {
     "slide_type": "subslide"
    }
   },
   "outputs": [
    {
     "name": "stdout",
     "output_type": "stream",
     "text": [
      "[[10.]\n",
      " [10.]\n",
      " [10.]]\n",
      "[[0.1338411]\n",
      " [1.1488994]\n",
      " [1.0951254]]\n"
     ]
    }
   ],
   "source": [
    "# Data of function to be approximated (e.g., from measurements or simulations)\n",
    "ys = 3*np.sin(np.sum(xs,axis=1,keepdims=True))+10\n",
    "\n",
    "# Compile model: choose optimizer and loss\n",
    "model.compile(\n",
    "    optimizer='adam'\n",
    "    ,loss='mse'\n",
    ")\n",
    "\n",
    "# Train\n",
    "model.fit(xs,ys,epochs=100,verbose=0)\n",
    "\n",
    "# Predict after training\n",
    "ys_model = model.predict(xs)\n",
    "print(ys)\n",
    "print(ys_model)"
   ]
  },
  {
   "cell_type": "markdown",
   "metadata": {
    "slideshow": {
     "slide_type": "slide"
    }
   },
   "source": [
    "## Regression problem\n",
    "\n",
    "Approximate the function\n",
    "$$\n",
    "    y(x_1,x_2) = 3 \\sin(x_1+x_2)+10\n",
    "$$"
   ]
  },
  {
   "cell_type": "markdown",
   "metadata": {
    "slideshow": {
     "slide_type": "subslide"
    }
   },
   "source": [
    "## Exercise: train an ANN\n",
    "\n",
    "<img src=\"../_static/exercise.png\" alt=\"Exercise\" width=\"75\" align=\"left\">\n",
    "\n",
    "Create training data and train an ANN\n",
    "\n",
    "* For $(x_1,x_2) \\in [0,\\pi] \\times [0,2\\pi]$ generate a grid with 20 points in each direction.\n",
    "* Evaluate the function $y(x_1,x_2) = 3 \\sin(x_1+x_2) + 10$ for the generated points.\n",
    "* Build a tf.keras model with two hidden-layers, 16 and 8 neurons. Use the RELU activation function.\n",
    "* Plot the data and the model output at its initialization.\n",
    "* Train the model based on the MSE.\n",
    "* Plot the data and the model output after training for 500 epochs."
   ]
  },
  {
   "cell_type": "markdown",
   "metadata": {
    "slideshow": {
     "slide_type": "subslide"
    }
   },
   "source": [
    "## Solution\n",
    "\n",
    "Please find one possible solution in [`regression.py`](09_files/regression.py) file."
   ]
  },
  {
   "cell_type": "markdown",
   "metadata": {
    "slideshow": {
     "slide_type": "slide"
    }
   },
   "source": [
    "## Classification problem\n",
    "\n",
    "Build a classifier $\\hat{y}(x)$ for distinguishing between the following examples.\n",
    "\n",
    "**Question**\n",
    "How could this be useful in automotive engineering?\n",
    "\n",
    "<img src=\"09_files/data/3_1.png\" alt=\"triangle 1\" width=\"100\" align=\"left\">\n",
    "<img src=\"09_files/data/3_3.png\" alt=\"triangle 2\" width=\"100\" align=\"left\">\n",
    "\n",
    "<img src=\"09_files/data/4_2.png\" alt=\"triangle 1\" width=\"100\" align=\"left\">\n",
    "<img src=\"09_files/data/4_4.png\" alt=\"triangle 2\" width=\"100\" align=\"left\">\n",
    "\n",
    "<img src=\"09_files/data/16_2.png\" alt=\"triangle 1\" width=\"100\" align=\"left\">\n",
    "<img src=\"09_files/data/16_4.png\" alt=\"triangle 2\" width=\"100\" align=\"left\">\n"
   ]
  },
  {
   "cell_type": "markdown",
   "metadata": {
    "slideshow": {
     "slide_type": "subslide"
    }
   },
   "source": [
    "## Image classification\n",
    "\n",
    "What is an image in terms of data?"
   ]
  },
  {
   "cell_type": "code",
   "execution_count": 7,
   "metadata": {},
   "outputs": [
    {
     "name": "stdout",
     "output_type": "stream",
     "text": [
      "<class 'numpy.ndarray'>\n",
      "(20, 20, 3)\n"
     ]
    },
    {
     "data": {
      "text/plain": [
       "<matplotlib.image.AxesImage at 0x274861ba548>"
      ]
     },
     "execution_count": 7,
     "metadata": {},
     "output_type": "execute_result"
    },
    {
     "data": {
      "image/png": "[encoded data removed]",
      "text/plain": [
       "<Figure size 432x288 with 1 Axes>"
      ]
     },
     "metadata": {
      "needs_background": "light"
     },
     "output_type": "display_data"
    }
   ],
   "source": [
    "# Load image as np.array\n",
    "image = plt.imread('09_files/data/3_1.png')\n",
    "print(type(image))\n",
    "print(image.shape)\n",
    "plt.imshow(image)"
   ]
  },
  {
   "cell_type": "code",
   "execution_count": 8,
   "metadata": {
    "slideshow": {
     "slide_type": "subslide"
    }
   },
   "outputs": [
    {
     "name": "stdout",
     "output_type": "stream",
     "text": [
      "(20, 20, 3)\n",
      "[0.         0.41568628 0.01960784]\n",
      "[1 2 3 4 5 6]\n",
      "(1200,)\n"
     ]
    }
   ],
   "source": [
    "# Image shape\n",
    "print(image.shape)\n",
    "print(image[0,0,:])\n",
    "\n",
    "# Flatten\n",
    "a = np.array([[1,2,3],[4,5,6]])\n",
    "a_fl = a.flatten()\n",
    "print(a_fl)\n",
    "\n",
    "# Flatten image\n",
    "image_fl = image.flatten()\n",
    "print(image_fl.shape)"
   ]
  },
  {
   "cell_type": "markdown",
   "metadata": {
    "slideshow": {
     "slide_type": "subslide"
    }
   },
   "source": [
    "## Classification - optimization problem formulation\n",
    "\n",
    "Encode an image in a vector $x = (x_1,\\dots,x_n) \\in \\mathbb{R}^n$. Every image $x^{(i)}, i=1,\\dots,N$ belongs to one of $C$ prescribed classes. Denote the unknown classification function $y:\\mathbb{R}^n \\mapsto [0,1]^C$, e.g., $C=3$, $y(x^{(1)}) = (1,0,0), y(x^{(2)}) = (0,0,1), y(x^{(3)}) = (0,1,0)$.  \n",
    "\n",
    "Assume a model $\\hat{y}(x)$ is given but requires calibration. For given labeled images, the [cross entropy](https://en.wikipedia.org/wiki/Cross_entropy) $e(p,\\hat{p})$ (exact and model class probabilities $p$ and $\\hat{p}$, respectively) as loss function\n",
    "$$\n",
    "    L \n",
    "    =\n",
    "    \\frac{1}{N}\n",
    "    \\sum_{i=1}^{N}\n",
    "    e(y(x^{(i)}),\\hat{y}(x^{(i)}))\n",
    "    \\ , \\quad\n",
    "    e(p,\\hat{p})\n",
    "    =\n",
    "    -\n",
    "    \\sum_{j=0}^{M-1}\n",
    "    p_j \\log(\\hat{p}_j) \n",
    "$$\n",
    "is best suited for classification problems."
   ]
  },
  {
   "cell_type": "markdown",
   "metadata": {
    "slideshow": {
     "slide_type": "subslide"
    }
   },
   "source": [
    "## Exercise: train an image classifier\n",
    "\n",
    "<img src=\"../_static/exercise.png\" alt=\"Exercise\" width=\"75\" align=\"left\">\n",
    "\n",
    "Train an image classifier for given images\n",
    "\n",
    "* Load the images from the folder [09_data](./09_files/data) and [09_data_test](09_files/data_test)\n",
    "* Create a tf.keras model with input image and output class probability\n",
    "* Train the model with the cross entropy for 10 epochs\n",
    "* Test the trained model on the test data"
   ]
  },
  {
   "cell_type": "markdown",
   "metadata": {
    "slideshow": {
     "slide_type": "subslide"
    }
   },
   "source": [
    "## Solution\n",
    "\n",
    "Please find one possible solution in [`classification.py`](09_files/classification.py) file."
   ]
  },
  {
   "cell_type": "markdown",
   "metadata": {
    "slideshow": {
     "slide_type": "slide"
    }
   },
   "source": [
    "## Summary of this lecture\n",
    "\n",
    "ANN\n",
    "<img src=\"09_files/network2.png\" alt=\"network2\" width=\"700\" align=\"ceter\">\n",
    "\n",
    "Standard problems\n",
    "\n",
    "<img src=\"09_files/reg_start.png\" alt=\"network2\" width=\"200\" align=\"left\">\n",
    "<img src=\"09_files/reg_trained.png\" alt=\"network2\" width=\"200\" align=\"left\">\n",
    "\n",
    "<img src=\"09_files/data/3_1.png\" alt=\"network2\" width=\"100\" align=\"right\">\n",
    "<img src=\"09_files/data/4_1.png\" alt=\"network2\" width=\"100\" align=\"right\">\n",
    "<img src=\"09_files/data/16_1.png\" alt=\"network2\" width=\"100\" align=\"right\">"
   ]
  },
  {
   "cell_type": "markdown",
   "metadata": {
    "slideshow": {
     "slide_type": "slide"
    }
   },
   "source": [
    "## Further topics\n",
    "\n",
    "* Sample generation strategies and extrapolation\n",
    "* Learning scenarios\n",
    "    * Unsupervised learning\n",
    "    * Reinforcement learning\n",
    "* Keras models\n",
    "    * Functional\n",
    "    * Subclassing\n",
    "    * Layers\n",
    "        * Convolution layer\n",
    "        * Dropout\n",
    "        * Batch normalization\n",
    "    * Advanced neural networks\n",
    "        * CNN (convolutional NN)\n",
    "        * RNN (recurrent NN)\n",
    "        * Custom\n",
    "    * Losses\n",
    "        * Custom loss\n",
    "* Training\n",
    "    * Overfitting\n",
    "    * Optimization algorithm and parameters\n",
    "    * Batch training"
   ]
  }
 ],
 "metadata": {
  "celltoolbar": "Slideshow",
  "kernelspec": {
   "display_name": "Python 3",
   "language": "python",
   "name": "python3"
  },
  "language_info": {
   "codemirror_mode": {
    "name": "ipython",
    "version": 3
   },
   "file_extension": ".py",
   "mimetype": "text/x-python",
   "name": "python",
   "nbconvert_exporter": "python",
   "pygments_lexer": "ipython3",
   "version": "3.7.6"
  }
 },
 "nbformat": 4,
 "nbformat_minor": 2
}
